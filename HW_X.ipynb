{
  "nbformat": 4,
  "nbformat_minor": 0,
  "metadata": {
    "colab": {
      "name": "HW_X",
      "provenance": []
    },
    "kernelspec": {
      "name": "python3",
      "display_name": "Python 3.8.5 64-bit ('base': conda)"
    },
    "language_info": {
      "name": "python",
      "version": "3.8.5"
    },
    "interpreter": {
      "hash": "b4760074067732e81c03fa2f3451350d5e78e45f688639748e9cab7f332de886"
    }
  },
  "cells": [
    {
      "cell_type": "markdown",
      "metadata": {
        "id": "g1hQiFW7isGe"
      },
      "source": [
        "# Итоговая работа."
      ]
    },
    {
      "cell_type": "code",
      "metadata": {
        "id": "NyZ7GotDi1Mp"
      },
      "source": [
        "import matplotlib.pyplot as plt\n",
        "import numpy as np\n",
        "import pandas as pd\n",
        "from scipy.optimize import minimize\n",
        "import scipy.stats as sts\n",
        "from sklearn.metrics import pairwise_distances\n",
        "from sklearn.decomposition import PCA\n",
        "%matplotlib inline"
      ],
      "execution_count": 1,
      "outputs": []
    },
    {
      "cell_type": "markdown",
      "metadata": {
        "id": "VZFf_auXisJd"
      },
      "source": [
        "## Задание 1"
      ]
    },
    {
      "cell_type": "markdown",
      "metadata": {
        "id": "ABMPXsuhisMO"
      },
      "source": [
        "Дана матрица рейтингов фильмов (строки - пользователи (10 человек), столбцы - фильмы (15 фильмов))"
      ]
    },
    {
      "cell_type": "code",
      "metadata": {
        "id": "D4_Vshevi-4P"
      },
      "source": [
        "raitings = np.array([[ 4,  4,  9,  4,  1,  6, 10,  7,  9,  6,  9,  2,  8,  6,  6],\n",
        "                     [ 9,  2,  5, 10,  7,  8, 10,  5,  6,  2,  1,  6,  8,  9,  7],\n",
        "                     [ 1,  6,  8,  8,  4,  9,  3,  8, 10,  5,  2,  6,  8,  1,  6],\n",
        "                     [ 6,  1,  9,  7,  7,  9,  2,  3,  5,  1,  6,  6,  3,  2,  7],\n",
        "                     [ 3,  7,  3,  5,  7,  9,  9,  6,  2,  9,  1,  2,  8, 10,  6],\n",
        "                     [ 8,  3,  7,  3,  8,  6,  1,  8,  8,  6,  1,  9,  4, 10,  1],\n",
        "                     [ 9,  8,  4,  8,  8, 10,  6,  1,  1,  2,  9,  5,  2,  7,  2],\n",
        "                     [ 4,  1,  6,  4,  3, 10,  4,  4,  2,  8,  7,  9,  3,  8,  3],\n",
        "                     [ 2,  7,  7,  6, 10,  6,  8,  9,  8,  6, 10,  1,  7, 10,  4],\n",
        "                     [ 5, 10,  8,  8,  9,  7,  2,  9,  9, 10,  8,  8,  8,  6, 10]])\n"
      ],
      "execution_count": 2,
      "outputs": []
    },
    {
      "cell_type": "markdown",
      "metadata": {
        "id": "FuYpBPsTjBVa"
      },
      "source": [
        "**a)** Необходимо найти наиболее похожего пользователя по косинусной метрике для каждого из (ответ: 10 пар вида (x, y), где y - наиболее похожий пользователь на пользователя x).\n",
        "\n",
        "**b)** Предположим, вы захотели сжать признаковые описания пользователя с 15 фильмов, до, скажем, 5-ти признаков, как вы это сделаете?"
      ]
    },
    {
      "cell_type": "code",
      "execution_count": 3,
      "metadata": {},
      "outputs": [
        {
          "output_type": "execute_result",
          "data": {
            "text/plain": [
              "          0         1         2         3         4         5         6  \\\n",
              "0  0.000000  0.173971  0.150785  0.216599  0.180824  0.258815  0.272642   \n",
              "1  0.173971  0.000000  0.187657  0.153647  0.128619  0.172869  0.173703   \n",
              "2  0.150785  0.187657  0.000000  0.153306  0.216057  0.209020  0.323838   \n",
              "3  0.216599  0.153647  0.153306  0.000000  0.308466  0.213342  0.167258   \n",
              "4  0.180824  0.128619  0.216057  0.308466  0.000000  0.223557  0.217995   \n",
              "5  0.258815  0.172869  0.209020  0.213342  0.223557  0.000000  0.259882   \n",
              "6  0.272642  0.173703  0.323838  0.167258  0.217995  0.259882  0.000000   \n",
              "7  0.190325  0.199740  0.237104  0.170653  0.187631  0.155483  0.173308   \n",
              "8  0.089340  0.174737  0.178879  0.222933  0.120515  0.193771  0.188700   \n",
              "9  0.139892  0.180319  0.081269  0.141131  0.154252  0.144851  0.208453   \n",
              "\n",
              "          7         8         9  \n",
              "0  0.190325  0.089340  0.139892  \n",
              "1  0.199740  0.174737  0.180319  \n",
              "2  0.237104  0.178879  0.081269  \n",
              "3  0.170653  0.222933  0.141131  \n",
              "4  0.187631  0.120515  0.154252  \n",
              "5  0.155483  0.193771  0.144851  \n",
              "6  0.173308  0.188700  0.208453  \n",
              "7  0.000000  0.201872  0.163178  \n",
              "8  0.201872  0.000000  0.099062  \n",
              "9  0.163178  0.099062  0.000000  "
            ],
            "text/html": "<div>\n<style scoped>\n    .dataframe tbody tr th:only-of-type {\n        vertical-align: middle;\n    }\n\n    .dataframe tbody tr th {\n        vertical-align: top;\n    }\n\n    .dataframe thead th {\n        text-align: right;\n    }\n</style>\n<table border=\"1\" class=\"dataframe\">\n  <thead>\n    <tr style=\"text-align: right;\">\n      <th></th>\n      <th>0</th>\n      <th>1</th>\n      <th>2</th>\n      <th>3</th>\n      <th>4</th>\n      <th>5</th>\n      <th>6</th>\n      <th>7</th>\n      <th>8</th>\n      <th>9</th>\n    </tr>\n  </thead>\n  <tbody>\n    <tr>\n      <th>0</th>\n      <td>0.000000</td>\n      <td>0.173971</td>\n      <td>0.150785</td>\n      <td>0.216599</td>\n      <td>0.180824</td>\n      <td>0.258815</td>\n      <td>0.272642</td>\n      <td>0.190325</td>\n      <td>0.089340</td>\n      <td>0.139892</td>\n    </tr>\n    <tr>\n      <th>1</th>\n      <td>0.173971</td>\n      <td>0.000000</td>\n      <td>0.187657</td>\n      <td>0.153647</td>\n      <td>0.128619</td>\n      <td>0.172869</td>\n      <td>0.173703</td>\n      <td>0.199740</td>\n      <td>0.174737</td>\n      <td>0.180319</td>\n    </tr>\n    <tr>\n      <th>2</th>\n      <td>0.150785</td>\n      <td>0.187657</td>\n      <td>0.000000</td>\n      <td>0.153306</td>\n      <td>0.216057</td>\n      <td>0.209020</td>\n      <td>0.323838</td>\n      <td>0.237104</td>\n      <td>0.178879</td>\n      <td>0.081269</td>\n    </tr>\n    <tr>\n      <th>3</th>\n      <td>0.216599</td>\n      <td>0.153647</td>\n      <td>0.153306</td>\n      <td>0.000000</td>\n      <td>0.308466</td>\n      <td>0.213342</td>\n      <td>0.167258</td>\n      <td>0.170653</td>\n      <td>0.222933</td>\n      <td>0.141131</td>\n    </tr>\n    <tr>\n      <th>4</th>\n      <td>0.180824</td>\n      <td>0.128619</td>\n      <td>0.216057</td>\n      <td>0.308466</td>\n      <td>0.000000</td>\n      <td>0.223557</td>\n      <td>0.217995</td>\n      <td>0.187631</td>\n      <td>0.120515</td>\n      <td>0.154252</td>\n    </tr>\n    <tr>\n      <th>5</th>\n      <td>0.258815</td>\n      <td>0.172869</td>\n      <td>0.209020</td>\n      <td>0.213342</td>\n      <td>0.223557</td>\n      <td>0.000000</td>\n      <td>0.259882</td>\n      <td>0.155483</td>\n      <td>0.193771</td>\n      <td>0.144851</td>\n    </tr>\n    <tr>\n      <th>6</th>\n      <td>0.272642</td>\n      <td>0.173703</td>\n      <td>0.323838</td>\n      <td>0.167258</td>\n      <td>0.217995</td>\n      <td>0.259882</td>\n      <td>0.000000</td>\n      <td>0.173308</td>\n      <td>0.188700</td>\n      <td>0.208453</td>\n    </tr>\n    <tr>\n      <th>7</th>\n      <td>0.190325</td>\n      <td>0.199740</td>\n      <td>0.237104</td>\n      <td>0.170653</td>\n      <td>0.187631</td>\n      <td>0.155483</td>\n      <td>0.173308</td>\n      <td>0.000000</td>\n      <td>0.201872</td>\n      <td>0.163178</td>\n    </tr>\n    <tr>\n      <th>8</th>\n      <td>0.089340</td>\n      <td>0.174737</td>\n      <td>0.178879</td>\n      <td>0.222933</td>\n      <td>0.120515</td>\n      <td>0.193771</td>\n      <td>0.188700</td>\n      <td>0.201872</td>\n      <td>0.000000</td>\n      <td>0.099062</td>\n    </tr>\n    <tr>\n      <th>9</th>\n      <td>0.139892</td>\n      <td>0.180319</td>\n      <td>0.081269</td>\n      <td>0.141131</td>\n      <td>0.154252</td>\n      <td>0.144851</td>\n      <td>0.208453</td>\n      <td>0.163178</td>\n      <td>0.099062</td>\n      <td>0.000000</td>\n    </tr>\n  </tbody>\n</table>\n</div>"
          },
          "metadata": {},
          "execution_count": 3
        }
      ],
      "source": [
        "# a)\n",
        "user_similarity = pairwise_distances(raitings, metric='cosine')\n",
        "df = pd.DataFrame(user_similarity)\n",
        "df"
      ]
    },
    {
      "cell_type": "code",
      "execution_count": 4,
      "metadata": {},
      "outputs": [
        {
          "output_type": "stream",
          "name": "stdout",
          "text": [
            "10 пар наиболее похожих пользователей:\n(0, 8)\n(1, 4)\n(2, 9)\n(3, 9)\n(4, 8)\n(5, 9)\n(6, 3)\n(7, 5)\n(8, 0)\n(9, 2)\n"
          ]
        }
      ],
      "source": [
        "res = df[df > 0].idxmin(axis=1)\n",
        "\n",
        "print(\"10 пар наиболее похожих пользователей:\")\n",
        "for index, val in res.iteritems():\n",
        "    print((index, val))"
      ]
    },
    {
      "cell_type": "code",
      "execution_count": 5,
      "metadata": {},
      "outputs": [
        {
          "output_type": "display_data",
          "data": {
            "text/plain": "<Figure size 432x288 with 1 Axes>",
            "image/svg+xml": "<?xml version=\"1.0\" encoding=\"utf-8\" standalone=\"no\"?>\r\n<!DOCTYPE svg PUBLIC \"-//W3C//DTD SVG 1.1//EN\"\r\n  \"http://www.w3.org/Graphics/SVG/1.1/DTD/svg11.dtd\">\r\n<svg height=\"248.518125pt\" version=\"1.1\" viewBox=\"0 0 245.2025 248.518125\" width=\"245.2025pt\" xmlns=\"http://www.w3.org/2000/svg\" xmlns:xlink=\"http://www.w3.org/1999/xlink\">\r\n <metadata>\r\n  <rdf:RDF xmlns:cc=\"http://creativecommons.org/ns#\" xmlns:dc=\"http://purl.org/dc/elements/1.1/\" xmlns:rdf=\"http://www.w3.org/1999/02/22-rdf-syntax-ns#\">\r\n   <cc:Work>\r\n    <dc:type rdf:resource=\"http://purl.org/dc/dcmitype/StillImage\"/>\r\n    <dc:date>2021-07-28T20:58:28.546026</dc:date>\r\n    <dc:format>image/svg+xml</dc:format>\r\n    <dc:creator>\r\n     <cc:Agent>\r\n      <dc:title>Matplotlib v3.4.1, https://matplotlib.org/</dc:title>\r\n     </cc:Agent>\r\n    </dc:creator>\r\n   </cc:Work>\r\n  </rdf:RDF>\r\n </metadata>\r\n <defs>\r\n  <style type=\"text/css\">*{stroke-linecap:butt;stroke-linejoin:round;}</style>\r\n </defs>\r\n <g id=\"figure_1\">\r\n  <g id=\"patch_1\">\r\n   <path d=\"M 0 248.518125 \r\nL 245.2025 248.518125 \r\nL 245.2025 0 \r\nL 0 0 \r\nz\r\n\" style=\"fill:none;\"/>\r\n  </g>\r\n  <g id=\"axes_1\">\r\n   <g id=\"patch_2\">\r\n    <path d=\"M 20.5625 224.64 \r\nL 238.0025 224.64 \r\nL 238.0025 7.2 \r\nL 20.5625 7.2 \r\nz\r\n\" style=\"fill:#ffffff;\"/>\r\n   </g>\r\n   <g clip-path=\"url(#pd4311e078d)\">\r\n    <image height=\"218\" id=\"image5abf1301e7\" transform=\"scale(1 -1)translate(0 -218)\" width=\"218\" x=\"20.5625\" xlink:href=\"data:image/png;base64,\r\niVBORw0KGgoAAAANSUhEUgAAANoAAADaCAYAAADAHVzbAAAETElEQVR4nO3cP+suchjH8evmKPltRotJiVOIDMpmUWSRScokKalDGYhBMVAGxCTKpgyHJBkQg7+dQfEgjD8suq0ewH29p9frAXz6Lu++23U4XpzjbHh4ZXUuv3z6zQdvO/3mzMzcsLT759LuK0u7H5x+8vePTr85M3PnzuxctbQL/I/QICA0CAgNAkKDgNAgIDQICA0CQoOA0CAgNAgIDQJCg4DQICA0CAgNAkKDgNAgIDQICA0CQoPA4ZvZuYJ173MbqzNz7cLmowubMzMXl3bfXdo9X9pduAZ2tnRl7eedWT8aFIQGAaFBQGgQEBoEhAYBoUFAaBAQGgSEBgGhQUBoEBAaBIQGAaFBQGgQEBoEhAYBoUFAaBAQGgQOx7d3rmDN9SurMw8tbG5d7LppaffLpd2bd2bP3jj95vnHp9+cmZlPdmb9aBAQGgSEBgGhQUBoEBAaBIQGAaFBQGgQEBoEhAYBoUFAaBAQGgSEBgGhQUBoEBAaBIQGAaFB4HA8Pr5znOfZ91dm5/WF5z5xOP3mzMyTO7Nz+z0rs2eH71d2zy8tjN64sDmzdqDIjwYBoUFAaBAQGgSEBgGhQUBoEBAaBIQGAaFBQGgQEBoEhAYBoUFAaBAQGgSEBgGhQUBoEBAaBIQGgQszv+0s/7szO18tXKx67PSTMzNz3c7s2rWq4851rXlg4b23nH5yZmZe2Jn1o0FAaBAQGgSEBgGhQUBoEBAaBIQGAaFBQGgQEBoEhAYBoUFAaBAQGgSEBgGhQUBoEBAaBIQGAaFB4HB8eY4ry2+trM58trB5968LozNnhztWds//WJmd+Wtp9+uFzecWNmdm7tuZ9aNBQGgQEBoEhAYBoUFAaBAQGgSEBgGhQUBoEBAaBIQGAaFBQGgQEBoEhAYBoUFAaBAQGgSEBgGhQeBw/GnpCtaLK6srzj7f2T0/7lzXmu92rmvNhzuzc83C5tMLmzMzj+zM+tEgIDQICA0CQoOA0CAgNAgIDQJCg4DQICA0CAgNAkKDgNAgIDQICA0CQoOA0CAgNAgIDQJCg4DQIHBhnl9afmBn9uyZ02+e33/6zZmZ+WHpWtU/O7Pz3s5BtPn7cPrNV08/OTNz+crOrh8NAkKDgNAgIDQICA0CQoOA0CAgNAgIDQJCg4DQICA0CAgNAkKDgNAgIDQICA0CQoOA0CAgNAgcjpdm5SLL2RsbqzPnby6MfrGwOTPz49Luo0u7Vy/t3rWw+cvC5szM2c6sHw0CQoOA0CAgNAgIDQJCg4DQICA0CAgNAkKDgNAgIDQICA0CQoOA0CAgNAgIDQJCg4DQICA0CAgNAofrZucK1vmljdWZubKw+drC5szMp0u7L929NHzrzuw775988tunTj45MzP3XtzZ9aNBQGgQEBoEhAYBoUFAaBAQGgSEBgGhQUBoEBAaBIQGAaFBQGgQEBoEhAYBoUFAaBAQGgSEBgGhQeA/pBFTeEzh0AwAAAAASUVORK5CYII=\" y=\"-6.64\"/>\r\n   </g>\r\n   <g id=\"matplotlib.axis_1\">\r\n    <g id=\"xtick_1\">\r\n     <g id=\"line2d_1\">\r\n      <defs>\r\n       <path d=\"M 0 0 \r\nL 0 3.5 \r\n\" id=\"m6825f5cd8c\" style=\"stroke:#000000;stroke-width:0.8;\"/>\r\n      </defs>\r\n      <g>\r\n       <use style=\"stroke:#000000;stroke-width:0.8;\" x=\"31.4345\" xlink:href=\"#m6825f5cd8c\" y=\"224.64\"/>\r\n      </g>\r\n     </g>\r\n     <g id=\"text_1\">\r\n      <!-- 0 -->\r\n      <g transform=\"translate(28.25325 239.238437)scale(0.1 -0.1)\">\r\n       <defs>\r\n        <path d=\"M 2034 4250 \r\nQ 1547 4250 1301 3770 \r\nQ 1056 3291 1056 2328 \r\nQ 1056 1369 1301 889 \r\nQ 1547 409 2034 409 \r\nQ 2525 409 2770 889 \r\nQ 3016 1369 3016 2328 \r\nQ 3016 3291 2770 3770 \r\nQ 2525 4250 2034 4250 \r\nz\r\nM 2034 4750 \r\nQ 2819 4750 3233 4129 \r\nQ 3647 3509 3647 2328 \r\nQ 3647 1150 3233 529 \r\nQ 2819 -91 2034 -91 \r\nQ 1250 -91 836 529 \r\nQ 422 1150 422 2328 \r\nQ 422 3509 836 4129 \r\nQ 1250 4750 2034 4750 \r\nz\r\n\" id=\"DejaVuSans-30\" transform=\"scale(0.015625)\"/>\r\n       </defs>\r\n       <use xlink:href=\"#DejaVuSans-30\"/>\r\n      </g>\r\n     </g>\r\n    </g>\r\n    <g id=\"xtick_2\">\r\n     <g id=\"line2d_2\">\r\n      <g>\r\n       <use style=\"stroke:#000000;stroke-width:0.8;\" x=\"74.9225\" xlink:href=\"#m6825f5cd8c\" y=\"224.64\"/>\r\n      </g>\r\n     </g>\r\n     <g id=\"text_2\">\r\n      <!-- 2 -->\r\n      <g transform=\"translate(71.74125 239.238437)scale(0.1 -0.1)\">\r\n       <defs>\r\n        <path d=\"M 1228 531 \r\nL 3431 531 \r\nL 3431 0 \r\nL 469 0 \r\nL 469 531 \r\nQ 828 903 1448 1529 \r\nQ 2069 2156 2228 2338 \r\nQ 2531 2678 2651 2914 \r\nQ 2772 3150 2772 3378 \r\nQ 2772 3750 2511 3984 \r\nQ 2250 4219 1831 4219 \r\nQ 1534 4219 1204 4116 \r\nQ 875 4013 500 3803 \r\nL 500 4441 \r\nQ 881 4594 1212 4672 \r\nQ 1544 4750 1819 4750 \r\nQ 2544 4750 2975 4387 \r\nQ 3406 4025 3406 3419 \r\nQ 3406 3131 3298 2873 \r\nQ 3191 2616 2906 2266 \r\nQ 2828 2175 2409 1742 \r\nQ 1991 1309 1228 531 \r\nz\r\n\" id=\"DejaVuSans-32\" transform=\"scale(0.015625)\"/>\r\n       </defs>\r\n       <use xlink:href=\"#DejaVuSans-32\"/>\r\n      </g>\r\n     </g>\r\n    </g>\r\n    <g id=\"xtick_3\">\r\n     <g id=\"line2d_3\">\r\n      <g>\r\n       <use style=\"stroke:#000000;stroke-width:0.8;\" x=\"118.4105\" xlink:href=\"#m6825f5cd8c\" y=\"224.64\"/>\r\n      </g>\r\n     </g>\r\n     <g id=\"text_3\">\r\n      <!-- 4 -->\r\n      <g transform=\"translate(115.22925 239.238437)scale(0.1 -0.1)\">\r\n       <defs>\r\n        <path d=\"M 2419 4116 \r\nL 825 1625 \r\nL 2419 1625 \r\nL 2419 4116 \r\nz\r\nM 2253 4666 \r\nL 3047 4666 \r\nL 3047 1625 \r\nL 3713 1625 \r\nL 3713 1100 \r\nL 3047 1100 \r\nL 3047 0 \r\nL 2419 0 \r\nL 2419 1100 \r\nL 313 1100 \r\nL 313 1709 \r\nL 2253 4666 \r\nz\r\n\" id=\"DejaVuSans-34\" transform=\"scale(0.015625)\"/>\r\n       </defs>\r\n       <use xlink:href=\"#DejaVuSans-34\"/>\r\n      </g>\r\n     </g>\r\n    </g>\r\n    <g id=\"xtick_4\">\r\n     <g id=\"line2d_4\">\r\n      <g>\r\n       <use style=\"stroke:#000000;stroke-width:0.8;\" x=\"161.8985\" xlink:href=\"#m6825f5cd8c\" y=\"224.64\"/>\r\n      </g>\r\n     </g>\r\n     <g id=\"text_4\">\r\n      <!-- 6 -->\r\n      <g transform=\"translate(158.71725 239.238437)scale(0.1 -0.1)\">\r\n       <defs>\r\n        <path d=\"M 2113 2584 \r\nQ 1688 2584 1439 2293 \r\nQ 1191 2003 1191 1497 \r\nQ 1191 994 1439 701 \r\nQ 1688 409 2113 409 \r\nQ 2538 409 2786 701 \r\nQ 3034 994 3034 1497 \r\nQ 3034 2003 2786 2293 \r\nQ 2538 2584 2113 2584 \r\nz\r\nM 3366 4563 \r\nL 3366 3988 \r\nQ 3128 4100 2886 4159 \r\nQ 2644 4219 2406 4219 \r\nQ 1781 4219 1451 3797 \r\nQ 1122 3375 1075 2522 \r\nQ 1259 2794 1537 2939 \r\nQ 1816 3084 2150 3084 \r\nQ 2853 3084 3261 2657 \r\nQ 3669 2231 3669 1497 \r\nQ 3669 778 3244 343 \r\nQ 2819 -91 2113 -91 \r\nQ 1303 -91 875 529 \r\nQ 447 1150 447 2328 \r\nQ 447 3434 972 4092 \r\nQ 1497 4750 2381 4750 \r\nQ 2619 4750 2861 4703 \r\nQ 3103 4656 3366 4563 \r\nz\r\n\" id=\"DejaVuSans-36\" transform=\"scale(0.015625)\"/>\r\n       </defs>\r\n       <use xlink:href=\"#DejaVuSans-36\"/>\r\n      </g>\r\n     </g>\r\n    </g>\r\n    <g id=\"xtick_5\">\r\n     <g id=\"line2d_5\">\r\n      <g>\r\n       <use style=\"stroke:#000000;stroke-width:0.8;\" x=\"205.3865\" xlink:href=\"#m6825f5cd8c\" y=\"224.64\"/>\r\n      </g>\r\n     </g>\r\n     <g id=\"text_5\">\r\n      <!-- 8 -->\r\n      <g transform=\"translate(202.20525 239.238437)scale(0.1 -0.1)\">\r\n       <defs>\r\n        <path d=\"M 2034 2216 \r\nQ 1584 2216 1326 1975 \r\nQ 1069 1734 1069 1313 \r\nQ 1069 891 1326 650 \r\nQ 1584 409 2034 409 \r\nQ 2484 409 2743 651 \r\nQ 3003 894 3003 1313 \r\nQ 3003 1734 2745 1975 \r\nQ 2488 2216 2034 2216 \r\nz\r\nM 1403 2484 \r\nQ 997 2584 770 2862 \r\nQ 544 3141 544 3541 \r\nQ 544 4100 942 4425 \r\nQ 1341 4750 2034 4750 \r\nQ 2731 4750 3128 4425 \r\nQ 3525 4100 3525 3541 \r\nQ 3525 3141 3298 2862 \r\nQ 3072 2584 2669 2484 \r\nQ 3125 2378 3379 2068 \r\nQ 3634 1759 3634 1313 \r\nQ 3634 634 3220 271 \r\nQ 2806 -91 2034 -91 \r\nQ 1263 -91 848 271 \r\nQ 434 634 434 1313 \r\nQ 434 1759 690 2068 \r\nQ 947 2378 1403 2484 \r\nz\r\nM 1172 3481 \r\nQ 1172 3119 1398 2916 \r\nQ 1625 2713 2034 2713 \r\nQ 2441 2713 2670 2916 \r\nQ 2900 3119 2900 3481 \r\nQ 2900 3844 2670 4047 \r\nQ 2441 4250 2034 4250 \r\nQ 1625 4250 1398 4047 \r\nQ 1172 3844 1172 3481 \r\nz\r\n\" id=\"DejaVuSans-38\" transform=\"scale(0.015625)\"/>\r\n       </defs>\r\n       <use xlink:href=\"#DejaVuSans-38\"/>\r\n      </g>\r\n     </g>\r\n    </g>\r\n   </g>\r\n   <g id=\"matplotlib.axis_2\">\r\n    <g id=\"ytick_1\">\r\n     <g id=\"line2d_6\">\r\n      <defs>\r\n       <path d=\"M 0 0 \r\nL -3.5 0 \r\n\" id=\"m7c34f5d232\" style=\"stroke:#000000;stroke-width:0.8;\"/>\r\n      </defs>\r\n      <g>\r\n       <use style=\"stroke:#000000;stroke-width:0.8;\" x=\"20.5625\" xlink:href=\"#m7c34f5d232\" y=\"18.072\"/>\r\n      </g>\r\n     </g>\r\n     <g id=\"text_6\">\r\n      <!-- 0 -->\r\n      <g transform=\"translate(7.2 21.871219)scale(0.1 -0.1)\">\r\n       <use xlink:href=\"#DejaVuSans-30\"/>\r\n      </g>\r\n     </g>\r\n    </g>\r\n    <g id=\"ytick_2\">\r\n     <g id=\"line2d_7\">\r\n      <g>\r\n       <use style=\"stroke:#000000;stroke-width:0.8;\" x=\"20.5625\" xlink:href=\"#m7c34f5d232\" y=\"61.56\"/>\r\n      </g>\r\n     </g>\r\n     <g id=\"text_7\">\r\n      <!-- 2 -->\r\n      <g transform=\"translate(7.2 65.359219)scale(0.1 -0.1)\">\r\n       <use xlink:href=\"#DejaVuSans-32\"/>\r\n      </g>\r\n     </g>\r\n    </g>\r\n    <g id=\"ytick_3\">\r\n     <g id=\"line2d_8\">\r\n      <g>\r\n       <use style=\"stroke:#000000;stroke-width:0.8;\" x=\"20.5625\" xlink:href=\"#m7c34f5d232\" y=\"105.048\"/>\r\n      </g>\r\n     </g>\r\n     <g id=\"text_8\">\r\n      <!-- 4 -->\r\n      <g transform=\"translate(7.2 108.847219)scale(0.1 -0.1)\">\r\n       <use xlink:href=\"#DejaVuSans-34\"/>\r\n      </g>\r\n     </g>\r\n    </g>\r\n    <g id=\"ytick_4\">\r\n     <g id=\"line2d_9\">\r\n      <g>\r\n       <use style=\"stroke:#000000;stroke-width:0.8;\" x=\"20.5625\" xlink:href=\"#m7c34f5d232\" y=\"148.536\"/>\r\n      </g>\r\n     </g>\r\n     <g id=\"text_9\">\r\n      <!-- 6 -->\r\n      <g transform=\"translate(7.2 152.335219)scale(0.1 -0.1)\">\r\n       <use xlink:href=\"#DejaVuSans-36\"/>\r\n      </g>\r\n     </g>\r\n    </g>\r\n    <g id=\"ytick_5\">\r\n     <g id=\"line2d_10\">\r\n      <g>\r\n       <use style=\"stroke:#000000;stroke-width:0.8;\" x=\"20.5625\" xlink:href=\"#m7c34f5d232\" y=\"192.024\"/>\r\n      </g>\r\n     </g>\r\n     <g id=\"text_10\">\r\n      <!-- 8 -->\r\n      <g transform=\"translate(7.2 195.823219)scale(0.1 -0.1)\">\r\n       <use xlink:href=\"#DejaVuSans-38\"/>\r\n      </g>\r\n     </g>\r\n    </g>\r\n   </g>\r\n   <g id=\"patch_3\">\r\n    <path d=\"M 20.5625 224.64 \r\nL 20.5625 7.2 \r\n\" style=\"fill:none;stroke:#000000;stroke-linecap:square;stroke-linejoin:miter;stroke-width:0.8;\"/>\r\n   </g>\r\n   <g id=\"patch_4\">\r\n    <path d=\"M 238.0025 224.64 \r\nL 238.0025 7.2 \r\n\" style=\"fill:none;stroke:#000000;stroke-linecap:square;stroke-linejoin:miter;stroke-width:0.8;\"/>\r\n   </g>\r\n   <g id=\"patch_5\">\r\n    <path d=\"M 20.5625 224.64 \r\nL 238.0025 224.64 \r\n\" style=\"fill:none;stroke:#000000;stroke-linecap:square;stroke-linejoin:miter;stroke-width:0.8;\"/>\r\n   </g>\r\n   <g id=\"patch_6\">\r\n    <path d=\"M 20.5625 7.2 \r\nL 238.0025 7.2 \r\n\" style=\"fill:none;stroke:#000000;stroke-linecap:square;stroke-linejoin:miter;stroke-width:0.8;\"/>\r\n   </g>\r\n  </g>\r\n </g>\r\n <defs>\r\n  <clipPath id=\"pd4311e078d\">\r\n   <rect height=\"217.44\" width=\"217.44\" x=\"20.5625\" y=\"7.2\"/>\r\n  </clipPath>\r\n </defs>\r\n</svg>\r\n",
            "image/png": "[encoded data removed]"
          },
          "metadata": {
            "needs_background": "light"
          }
        }
      ],
      "source": [
        "plt.imshow(user_similarity, cmap='hot', interpolation='nearest')\n",
        "plt.show()"
      ]
    },
    {
      "cell_type": "code",
      "execution_count": 6,
      "metadata": {},
      "outputs": [
        {
          "output_type": "execute_result",
          "data": {
            "text/plain": [
              "array([[-5.30986101,  1.92919845, -4.93300027,  2.70188013,  5.50497886],\n",
              "       [ 2.87763403,  2.71659559,  1.40592782,  7.26325751, -4.50322291],\n",
              "       [-4.94010408, -6.68861167, -0.94550184,  3.61556661, -0.68969272],\n",
              "       [ 5.14939908, -6.28027284, -4.65978558,  1.09024004, -1.01471112],\n",
              "       [-1.37488691,  7.54357985,  4.00834369,  2.1284001 , -0.16324949],\n",
              "       [ 2.65341956, -3.77075601,  8.58430748, -1.46628319,  1.67401769],\n",
              "       [ 8.61573944,  3.78603335, -4.02721027, -4.37582577, -3.13880277],\n",
              "       [ 5.39658258, -1.0170466 ,  1.01456742, -1.89512837,  6.54883538],\n",
              "       [-5.7843488 ,  5.29857107, -1.48083611, -3.71295542,  0.21312695],\n",
              "       [-7.2835739 , -3.51729118,  1.03318766, -5.34915166, -4.43127987]])"
            ]
          },
          "metadata": {},
          "execution_count": 6
        }
      ],
      "source": [
        "# b)\n",
        "pca = PCA(n_components=5)\n",
        "pca.fit(raitings)\n",
        "pca.transform(raitings)"
      ]
    },
    {
      "cell_type": "markdown",
      "metadata": {
        "id": "QRJEo5ydjFjG"
      },
      "source": [
        "## Задание 2"
      ]
    },
    {
      "cell_type": "markdown",
      "metadata": {
        "id": "39rGnTIojFlV"
      },
      "source": [
        "\n",
        "Вычислите производную $tg^2(sin(x) + cos(2x+3))$ в точке $x_0=1$ (на python и на бумаге)."
      ]
    },
    {
      "cell_type": "code",
      "execution_count": 7,
      "metadata": {},
      "outputs": [],
      "source": [
        "from sympy import diff, symbols, cos, sin, tan\n",
        "from scipy.misc import derivative\n"
      ]
    },
    {
      "cell_type": "code",
      "execution_count": 8,
      "metadata": {},
      "outputs": [
        {
          "output_type": "stream",
          "name": "stdout",
          "text": [
            "Значение производной в точке x0=1: 55.3859176464222\n"
          ]
        }
      ],
      "source": [
        "def f(x):\n",
        "    return np.tan(np.sin(x) + np.cos(2 * x + 3)) ** 2\n",
        "\n",
        "x0 = 1\n",
        "print(f'Значение производной в точке x0={x0}: {derivative(f, 1.0, dx=1e-6)}')"
      ]
    },
    {
      "cell_type": "code",
      "execution_count": 9,
      "metadata": {},
      "outputs": [
        {
          "output_type": "stream",
          "name": "stdout",
          "text": [
            "2*(-2*sin(2*x + 3) + cos(x))*(tan(sin(x) + cos(2*x + 3))**2 + 1)*tan(sin(x) + cos(2*x + 3))\n",
            "Значение производной в точке x0=1: 55.3859176353379\n"
          ]
        }
      ],
      "source": [
        "x = symbols('x')\n",
        "y = tan(sin(x) + cos(2 * x + 3)) ** 2\n",
        "yprime = diff(y)\n",
        "print(yprime)\n",
        "print(f'Значение производной в точке x0={x0}: {yprime.evalf(subs={x:1})}')"
      ]
    },
    {
      "cell_type": "markdown",
      "metadata": {
        "id": "T1y3_xiwjFpC"
      },
      "source": [
        "## Задание 3"
      ]
    },
    {
      "cell_type": "markdown",
      "metadata": {
        "id": "1EyIA1IQjU7w"
      },
      "source": [
        "Дана функция с неизвестными параметрами a и b, вам также известны значения функции fx в точках x. Найдите оптимальные параметры a, b, минимизирующие абсолютную ошибку **error**."
      ]
    },
    {
      "cell_type": "code",
      "execution_count": 10,
      "metadata": {},
      "outputs": [],
      "source": [
        "from scipy.optimize import differential_evolution, minimize"
      ]
    },
    {
      "cell_type": "code",
      "metadata": {
        "id": "eoBdc8Pwjhmk"
      },
      "source": [
        "def f(x, a, b):\n",
        "    return np.e**a * np.sin(b*x) + x"
      ],
      "execution_count": 11,
      "outputs": []
    },
    {
      "cell_type": "code",
      "metadata": {
        "id": "nftvBKK2jho9"
      },
      "source": [
        "x = np.array([0.        , 0.26315789, 0.52631579, 0.78947368, 1.05263158,\n",
        "              1.31578947, 1.57894737, 1.84210526, 2.10526316, 2.36842105,\n",
        "              2.63157895, 2.89473684, 3.15789474, 3.42105263, 3.68421053,\n",
        "              3.94736842, 4.21052632, 4.47368421, 4.73684211, 5.        ])"
      ],
      "execution_count": 12,
      "outputs": []
    },
    {
      "cell_type": "code",
      "metadata": {
        "id": "Dk9sBWrKjhrH"
      },
      "source": [
        "fx = np.array([  0.        , -12.01819092, -18.90968634, -17.68786571,\n",
        "                -8.7529108 ,   4.27524517,  16.06801336,  21.81250213,\n",
        "                19.22059845,   9.48411207,  -3.22273056, -13.48576488,\n",
        "               -16.91096359, -11.95866834,  -0.58630088,  12.56873816,\n",
        "                22.12489421,  24.20292139,  18.04522521,   6.33211092])"
      ],
      "execution_count": 13,
      "outputs": []
    },
    {
      "cell_type": "code",
      "metadata": {
        "id": "oXoGpFu0i-6g"
      },
      "source": [
        "def error(params):\n",
        "    return np.sum(np.abs(fx - f(x, params[0], params[1])))"
      ],
      "execution_count": 14,
      "outputs": []
    },
    {
      "cell_type": "code",
      "execution_count": 15,
      "metadata": {},
      "outputs": [
        {
          "output_type": "execute_result",
          "data": {
            "text/plain": [
              "     fun: 228.35685185569488\n",
              "     jac: array([4.13905641, 7.53523688])\n",
              " message: 'Optimization terminated successfully.'\n",
              "    nfev: 324\n",
              "     nit: 2\n",
              " success: True\n",
              "       x: array([  1.95112858, -22.30888755])"
            ]
          },
          "metadata": {},
          "execution_count": 15
        }
      ],
      "source": [
        "bounds = [(-30,30), (-30,30)]\n",
        "\n",
        "result1 = differential_evolution(\n",
        "    func=error, strategy='best1bin', popsize=3, tol=0.01, atol=0, mutation=(0.5, 1), \n",
        "    recombination=0.7, updating='deferred', bounds=bounds, seed=42)\n",
        "    \n",
        "result1   "
      ]
    },
    {
      "cell_type": "code",
      "execution_count": 16,
      "metadata": {},
      "outputs": [
        {
          "output_type": "stream",
          "name": "stdout",
          "text": [
            "a = 1.951128581730124\nb = -22.30888754719492\n"
          ]
        }
      ],
      "source": [
        "a = result1.x[0]\n",
        "b = result1.x[1]\n",
        "\n",
        " # Вывод результатов:\n",
        "print('a =', a)\n",
        "print('b =', b)"
      ]
    },
    {
      "cell_type": "code",
      "execution_count": 27,
      "metadata": {},
      "outputs": [
        {
          "output_type": "execute_result",
          "data": {
            "text/plain": [
              "[<matplotlib.lines.Line2D at 0x2479c91b340>]"
            ]
          },
          "metadata": {},
          "execution_count": 27
        },
        {
          "output_type": "display_data",
          "data": {
            "text/plain": "<Figure size 432x288 with 1 Axes>",
            "image/svg+xml": "<?xml version=\"1.0\" encoding=\"utf-8\" standalone=\"no\"?>\r\n<!DOCTYPE svg PUBLIC \"-//W3C//DTD SVG 1.1//EN\"\r\n  \"http://www.w3.org/Graphics/SVG/1.1/DTD/svg11.dtd\">\r\n<svg height=\"248.518125pt\" version=\"1.1\" viewBox=\"0 0 377.304688 248.518125\" width=\"377.304688pt\" xmlns=\"http://www.w3.org/2000/svg\" xmlns:xlink=\"http://www.w3.org/1999/xlink\">\r\n <metadata>\r\n  <rdf:RDF xmlns:cc=\"http://creativecommons.org/ns#\" xmlns:dc=\"http://purl.org/dc/elements/1.1/\" xmlns:rdf=\"http://www.w3.org/1999/02/22-rdf-syntax-ns#\">\r\n   <cc:Work>\r\n    <dc:type rdf:resource=\"http://purl.org/dc/dcmitype/StillImage\"/>\r\n    <dc:date>2021-07-28T23:42:30.652285</dc:date>\r\n    <dc:format>image/svg+xml</dc:format>\r\n    <dc:creator>\r\n     <cc:Agent>\r\n      <dc:title>Matplotlib v3.4.1, https://matplotlib.org/</dc:title>\r\n     </cc:Agent>\r\n    </dc:creator>\r\n   </cc:Work>\r\n  </rdf:RDF>\r\n </metadata>\r\n <defs>\r\n  <style type=\"text/css\">*{stroke-linecap:butt;stroke-linejoin:round;}</style>\r\n </defs>\r\n <g id=\"figure_1\">\r\n  <g id=\"patch_1\">\r\n   <path d=\"M 0 248.518125 \r\nL 377.304688 248.518125 \r\nL 377.304688 0 \r\nL 0 0 \r\nz\r\n\" style=\"fill:none;\"/>\r\n  </g>\r\n  <g id=\"axes_1\">\r\n   <g id=\"patch_2\">\r\n    <path d=\"M 35.304688 224.64 \r\nL 370.104688 224.64 \r\nL 370.104688 7.2 \r\nL 35.304688 7.2 \r\nz\r\n\" style=\"fill:#ffffff;\"/>\r\n   </g>\r\n   <g id=\"PathCollection_1\">\r\n    <defs>\r\n     <path d=\"M 0 3 \r\nC 0.795609 3 1.55874 2.683901 2.12132 2.12132 \r\nC 2.683901 1.55874 3 0.795609 3 0 \r\nC 3 -0.795609 2.683901 -1.55874 2.12132 -2.12132 \r\nC 1.55874 -2.683901 0.795609 -3 0 -3 \r\nC -0.795609 -3 -1.55874 -2.683901 -2.12132 -2.12132 \r\nC -2.683901 -1.55874 -3 -0.795609 -3 0 \r\nC -3 0.795609 -2.683901 1.55874 -2.12132 2.12132 \r\nC -1.55874 2.683901 -0.795609 3 0 3 \r\nz\r\n\" id=\"m072a93557c\" style=\"stroke:#1f77b4;\"/>\r\n    </defs>\r\n    <g clip-path=\"url(#p939582c39a)\">\r\n     <use style=\"fill:#1f77b4;stroke:#1f77b4;\" x=\"50.522869\" xlink:href=\"#m072a93557c\" y=\"128.054829\"/>\r\n     <use style=\"fill:#1f77b4;stroke:#1f77b4;\" x=\"66.542008\" xlink:href=\"#m072a93557c\" y=\"183.15863\"/>\r\n     <use style=\"fill:#1f77b4;stroke:#1f77b4;\" x=\"82.561147\" xlink:href=\"#m072a93557c\" y=\"214.756364\"/>\r\n     <use style=\"fill:#1f77b4;stroke:#1f77b4;\" x=\"98.580285\" xlink:href=\"#m072a93557c\" y=\"209.154276\"/>\r\n     <use style=\"fill:#1f77b4;stroke:#1f77b4;\" x=\"114.599424\" xlink:href=\"#m072a93557c\" y=\"168.187213\"/>\r\n     <use style=\"fill:#1f77b4;stroke:#1f77b4;\" x=\"130.618563\" xlink:href=\"#m072a93557c\" y=\"108.452689\"/>\r\n     <use style=\"fill:#1f77b4;stroke:#1f77b4;\" x=\"146.637702\" xlink:href=\"#m072a93557c\" y=\"54.382458\"/>\r\n     <use style=\"fill:#1f77b4;stroke:#1f77b4;\" x=\"162.65684\" xlink:href=\"#m072a93557c\" y=\"28.043787\"/>\r\n     <use style=\"fill:#1f77b4;stroke:#1f77b4;\" x=\"178.675979\" xlink:href=\"#m072a93557c\" y=\"39.927751\"/>\r\n     <use style=\"fill:#1f77b4;stroke:#1f77b4;\" x=\"194.695118\" xlink:href=\"#m072a93557c\" y=\"84.569862\"/>\r\n     <use style=\"fill:#1f77b4;stroke:#1f77b4;\" x=\"210.714257\" xlink:href=\"#m072a93557c\" y=\"142.831154\"/>\r\n     <use style=\"fill:#1f77b4;stroke:#1f77b4;\" x=\"226.733396\" xlink:href=\"#m072a93557c\" y=\"189.887505\"/>\r\n     <use style=\"fill:#1f77b4;stroke:#1f77b4;\" x=\"242.752535\" xlink:href=\"#m072a93557c\" y=\"205.592154\"/>\r\n     <use style=\"fill:#1f77b4;stroke:#1f77b4;\" x=\"258.771673\" xlink:href=\"#m072a93557c\" y=\"182.885717\"/>\r\n     <use style=\"fill:#1f77b4;stroke:#1f77b4;\" x=\"274.790812\" xlink:href=\"#m072a93557c\" y=\"130.743037\"/>\r\n     <use style=\"fill:#1f77b4;stroke:#1f77b4;\" x=\"290.809951\" xlink:href=\"#m072a93557c\" y=\"70.42675\"/>\r\n     <use style=\"fill:#1f77b4;stroke:#1f77b4;\" x=\"306.82909\" xlink:href=\"#m072a93557c\" y=\"26.611459\"/>\r\n     <use style=\"fill:#1f77b4;stroke:#1f77b4;\" x=\"322.848228\" xlink:href=\"#m072a93557c\" y=\"17.083636\"/>\r\n     <use style=\"fill:#1f77b4;stroke:#1f77b4;\" x=\"338.867367\" xlink:href=\"#m072a93557c\" y=\"45.316876\"/>\r\n     <use style=\"fill:#1f77b4;stroke:#1f77b4;\" x=\"354.886506\" xlink:href=\"#m072a93557c\" y=\"99.021891\"/>\r\n    </g>\r\n   </g>\r\n   <g id=\"matplotlib.axis_1\">\r\n    <g id=\"xtick_1\">\r\n     <g id=\"line2d_1\">\r\n      <defs>\r\n       <path d=\"M 0 0 \r\nL 0 3.5 \r\n\" id=\"mc5bda39f9e\" style=\"stroke:#000000;stroke-width:0.8;\"/>\r\n      </defs>\r\n      <g>\r\n       <use style=\"stroke:#000000;stroke-width:0.8;\" x=\"50.522869\" xlink:href=\"#mc5bda39f9e\" y=\"224.64\"/>\r\n      </g>\r\n     </g>\r\n     <g id=\"text_1\">\r\n      <!-- 0 -->\r\n      <g transform=\"translate(47.341619 239.238437)scale(0.1 -0.1)\">\r\n       <defs>\r\n        <path d=\"M 2034 4250 \r\nQ 1547 4250 1301 3770 \r\nQ 1056 3291 1056 2328 \r\nQ 1056 1369 1301 889 \r\nQ 1547 409 2034 409 \r\nQ 2525 409 2770 889 \r\nQ 3016 1369 3016 2328 \r\nQ 3016 3291 2770 3770 \r\nQ 2525 4250 2034 4250 \r\nz\r\nM 2034 4750 \r\nQ 2819 4750 3233 4129 \r\nQ 3647 3509 3647 2328 \r\nQ 3647 1150 3233 529 \r\nQ 2819 -91 2034 -91 \r\nQ 1250 -91 836 529 \r\nQ 422 1150 422 2328 \r\nQ 422 3509 836 4129 \r\nQ 1250 4750 2034 4750 \r\nz\r\n\" id=\"DejaVuSans-30\" transform=\"scale(0.015625)\"/>\r\n       </defs>\r\n       <use xlink:href=\"#DejaVuSans-30\"/>\r\n      </g>\r\n     </g>\r\n    </g>\r\n    <g id=\"xtick_2\">\r\n     <g id=\"line2d_2\">\r\n      <g>\r\n       <use style=\"stroke:#000000;stroke-width:0.8;\" x=\"111.395597\" xlink:href=\"#mc5bda39f9e\" y=\"224.64\"/>\r\n      </g>\r\n     </g>\r\n     <g id=\"text_2\">\r\n      <!-- 1 -->\r\n      <g transform=\"translate(108.214347 239.238437)scale(0.1 -0.1)\">\r\n       <defs>\r\n        <path d=\"M 794 531 \r\nL 1825 531 \r\nL 1825 4091 \r\nL 703 3866 \r\nL 703 4441 \r\nL 1819 4666 \r\nL 2450 4666 \r\nL 2450 531 \r\nL 3481 531 \r\nL 3481 0 \r\nL 794 0 \r\nL 794 531 \r\nz\r\n\" id=\"DejaVuSans-31\" transform=\"scale(0.015625)\"/>\r\n       </defs>\r\n       <use xlink:href=\"#DejaVuSans-31\"/>\r\n      </g>\r\n     </g>\r\n    </g>\r\n    <g id=\"xtick_3\">\r\n     <g id=\"line2d_3\">\r\n      <g>\r\n       <use style=\"stroke:#000000;stroke-width:0.8;\" x=\"172.268324\" xlink:href=\"#mc5bda39f9e\" y=\"224.64\"/>\r\n      </g>\r\n     </g>\r\n     <g id=\"text_3\">\r\n      <!-- 2 -->\r\n      <g transform=\"translate(169.087074 239.238437)scale(0.1 -0.1)\">\r\n       <defs>\r\n        <path d=\"M 1228 531 \r\nL 3431 531 \r\nL 3431 0 \r\nL 469 0 \r\nL 469 531 \r\nQ 828 903 1448 1529 \r\nQ 2069 2156 2228 2338 \r\nQ 2531 2678 2651 2914 \r\nQ 2772 3150 2772 3378 \r\nQ 2772 3750 2511 3984 \r\nQ 2250 4219 1831 4219 \r\nQ 1534 4219 1204 4116 \r\nQ 875 4013 500 3803 \r\nL 500 4441 \r\nQ 881 4594 1212 4672 \r\nQ 1544 4750 1819 4750 \r\nQ 2544 4750 2975 4387 \r\nQ 3406 4025 3406 3419 \r\nQ 3406 3131 3298 2873 \r\nQ 3191 2616 2906 2266 \r\nQ 2828 2175 2409 1742 \r\nQ 1991 1309 1228 531 \r\nz\r\n\" id=\"DejaVuSans-32\" transform=\"scale(0.015625)\"/>\r\n       </defs>\r\n       <use xlink:href=\"#DejaVuSans-32\"/>\r\n      </g>\r\n     </g>\r\n    </g>\r\n    <g id=\"xtick_4\">\r\n     <g id=\"line2d_4\">\r\n      <g>\r\n       <use style=\"stroke:#000000;stroke-width:0.8;\" x=\"233.141051\" xlink:href=\"#mc5bda39f9e\" y=\"224.64\"/>\r\n      </g>\r\n     </g>\r\n     <g id=\"text_4\">\r\n      <!-- 3 -->\r\n      <g transform=\"translate(229.959801 239.238437)scale(0.1 -0.1)\">\r\n       <defs>\r\n        <path d=\"M 2597 2516 \r\nQ 3050 2419 3304 2112 \r\nQ 3559 1806 3559 1356 \r\nQ 3559 666 3084 287 \r\nQ 2609 -91 1734 -91 \r\nQ 1441 -91 1130 -33 \r\nQ 819 25 488 141 \r\nL 488 750 \r\nQ 750 597 1062 519 \r\nQ 1375 441 1716 441 \r\nQ 2309 441 2620 675 \r\nQ 2931 909 2931 1356 \r\nQ 2931 1769 2642 2001 \r\nQ 2353 2234 1838 2234 \r\nL 1294 2234 \r\nL 1294 2753 \r\nL 1863 2753 \r\nQ 2328 2753 2575 2939 \r\nQ 2822 3125 2822 3475 \r\nQ 2822 3834 2567 4026 \r\nQ 2313 4219 1838 4219 \r\nQ 1578 4219 1281 4162 \r\nQ 984 4106 628 3988 \r\nL 628 4550 \r\nQ 988 4650 1302 4700 \r\nQ 1616 4750 1894 4750 \r\nQ 2613 4750 3031 4423 \r\nQ 3450 4097 3450 3541 \r\nQ 3450 3153 3228 2886 \r\nQ 3006 2619 2597 2516 \r\nz\r\n\" id=\"DejaVuSans-33\" transform=\"scale(0.015625)\"/>\r\n       </defs>\r\n       <use xlink:href=\"#DejaVuSans-33\"/>\r\n      </g>\r\n     </g>\r\n    </g>\r\n    <g id=\"xtick_5\">\r\n     <g id=\"line2d_5\">\r\n      <g>\r\n       <use style=\"stroke:#000000;stroke-width:0.8;\" x=\"294.013778\" xlink:href=\"#mc5bda39f9e\" y=\"224.64\"/>\r\n      </g>\r\n     </g>\r\n     <g id=\"text_5\">\r\n      <!-- 4 -->\r\n      <g transform=\"translate(290.832528 239.238437)scale(0.1 -0.1)\">\r\n       <defs>\r\n        <path d=\"M 2419 4116 \r\nL 825 1625 \r\nL 2419 1625 \r\nL 2419 4116 \r\nz\r\nM 2253 4666 \r\nL 3047 4666 \r\nL 3047 1625 \r\nL 3713 1625 \r\nL 3713 1100 \r\nL 3047 1100 \r\nL 3047 0 \r\nL 2419 0 \r\nL 2419 1100 \r\nL 313 1100 \r\nL 313 1709 \r\nL 2253 4666 \r\nz\r\n\" id=\"DejaVuSans-34\" transform=\"scale(0.015625)\"/>\r\n       </defs>\r\n       <use xlink:href=\"#DejaVuSans-34\"/>\r\n      </g>\r\n     </g>\r\n    </g>\r\n    <g id=\"xtick_6\">\r\n     <g id=\"line2d_6\">\r\n      <g>\r\n       <use style=\"stroke:#000000;stroke-width:0.8;\" x=\"354.886506\" xlink:href=\"#mc5bda39f9e\" y=\"224.64\"/>\r\n      </g>\r\n     </g>\r\n     <g id=\"text_6\">\r\n      <!-- 5 -->\r\n      <g transform=\"translate(351.705256 239.238437)scale(0.1 -0.1)\">\r\n       <defs>\r\n        <path d=\"M 691 4666 \r\nL 3169 4666 \r\nL 3169 4134 \r\nL 1269 4134 \r\nL 1269 2991 \r\nQ 1406 3038 1543 3061 \r\nQ 1681 3084 1819 3084 \r\nQ 2600 3084 3056 2656 \r\nQ 3513 2228 3513 1497 \r\nQ 3513 744 3044 326 \r\nQ 2575 -91 1722 -91 \r\nQ 1428 -91 1123 -41 \r\nQ 819 9 494 109 \r\nL 494 744 \r\nQ 775 591 1075 516 \r\nQ 1375 441 1709 441 \r\nQ 2250 441 2565 725 \r\nQ 2881 1009 2881 1497 \r\nQ 2881 1984 2565 2268 \r\nQ 2250 2553 1709 2553 \r\nQ 1456 2553 1204 2497 \r\nQ 953 2441 691 2322 \r\nL 691 4666 \r\nz\r\n\" id=\"DejaVuSans-35\" transform=\"scale(0.015625)\"/>\r\n       </defs>\r\n       <use xlink:href=\"#DejaVuSans-35\"/>\r\n      </g>\r\n     </g>\r\n    </g>\r\n   </g>\r\n   <g id=\"matplotlib.axis_2\">\r\n    <g id=\"ytick_1\">\r\n     <g id=\"line2d_7\">\r\n      <defs>\r\n       <path d=\"M 0 0 \r\nL -3.5 0 \r\n\" id=\"m088aa45d72\" style=\"stroke:#000000;stroke-width:0.8;\"/>\r\n      </defs>\r\n      <g>\r\n       <use style=\"stroke:#000000;stroke-width:0.8;\" x=\"35.304688\" xlink:href=\"#m088aa45d72\" y=\"219.755488\"/>\r\n      </g>\r\n     </g>\r\n     <g id=\"text_7\">\r\n      <!-- −20 -->\r\n      <g transform=\"translate(7.2 223.554706)scale(0.1 -0.1)\">\r\n       <defs>\r\n        <path d=\"M 678 2272 \r\nL 4684 2272 \r\nL 4684 1741 \r\nL 678 1741 \r\nL 678 2272 \r\nz\r\n\" id=\"DejaVuSans-2212\" transform=\"scale(0.015625)\"/>\r\n       </defs>\r\n       <use xlink:href=\"#DejaVuSans-2212\"/>\r\n       <use x=\"83.789062\" xlink:href=\"#DejaVuSans-32\"/>\r\n       <use x=\"147.412109\" xlink:href=\"#DejaVuSans-30\"/>\r\n      </g>\r\n     </g>\r\n    </g>\r\n    <g id=\"ytick_2\">\r\n     <g id=\"line2d_8\">\r\n      <g>\r\n       <use style=\"stroke:#000000;stroke-width:0.8;\" x=\"35.304688\" xlink:href=\"#m088aa45d72\" y=\"173.905158\"/>\r\n      </g>\r\n     </g>\r\n     <g id=\"text_8\">\r\n      <!-- −10 -->\r\n      <g transform=\"translate(7.2 177.704377)scale(0.1 -0.1)\">\r\n       <use xlink:href=\"#DejaVuSans-2212\"/>\r\n       <use x=\"83.789062\" xlink:href=\"#DejaVuSans-31\"/>\r\n       <use x=\"147.412109\" xlink:href=\"#DejaVuSans-30\"/>\r\n      </g>\r\n     </g>\r\n    </g>\r\n    <g id=\"ytick_3\">\r\n     <g id=\"line2d_9\">\r\n      <g>\r\n       <use style=\"stroke:#000000;stroke-width:0.8;\" x=\"35.304688\" xlink:href=\"#m088aa45d72\" y=\"128.054829\"/>\r\n      </g>\r\n     </g>\r\n     <g id=\"text_9\">\r\n      <!-- 0 -->\r\n      <g transform=\"translate(21.942188 131.854047)scale(0.1 -0.1)\">\r\n       <use xlink:href=\"#DejaVuSans-30\"/>\r\n      </g>\r\n     </g>\r\n    </g>\r\n    <g id=\"ytick_4\">\r\n     <g id=\"line2d_10\">\r\n      <g>\r\n       <use style=\"stroke:#000000;stroke-width:0.8;\" x=\"35.304688\" xlink:href=\"#m088aa45d72\" y=\"82.204499\"/>\r\n      </g>\r\n     </g>\r\n     <g id=\"text_10\">\r\n      <!-- 10 -->\r\n      <g transform=\"translate(15.579688 86.003718)scale(0.1 -0.1)\">\r\n       <use xlink:href=\"#DejaVuSans-31\"/>\r\n       <use x=\"63.623047\" xlink:href=\"#DejaVuSans-30\"/>\r\n      </g>\r\n     </g>\r\n    </g>\r\n    <g id=\"ytick_5\">\r\n     <g id=\"line2d_11\">\r\n      <g>\r\n       <use style=\"stroke:#000000;stroke-width:0.8;\" x=\"35.304688\" xlink:href=\"#m088aa45d72\" y=\"36.354169\"/>\r\n      </g>\r\n     </g>\r\n     <g id=\"text_11\">\r\n      <!-- 20 -->\r\n      <g transform=\"translate(15.579688 40.153388)scale(0.1 -0.1)\">\r\n       <use xlink:href=\"#DejaVuSans-32\"/>\r\n       <use x=\"63.623047\" xlink:href=\"#DejaVuSans-30\"/>\r\n      </g>\r\n     </g>\r\n    </g>\r\n   </g>\r\n   <g id=\"line2d_12\">\r\n    <path clip-path=\"url(#p939582c39a)\" d=\"M 50.522869 128.054829 \r\nL 66.542008 113.916115 \r\nL 82.561147 101.94609 \r\nL 98.580285 93.949744 \r\nL 114.599424 91.065707 \r\nL 130.618563 93.575282 \r\nL 146.637702 100.855274 \r\nL 162.65684 111.482515 \r\nL 178.675979 123.472492 \r\nL 194.695118 134.612189 \r\nL 210.714257 142.831155 \r\nL 226.733396 146.548758 \r\nL 242.752535 144.939221 \r\nL 258.771673 138.070116 \r\nL 274.790812 126.891038 \r\nL 290.809951 113.074338 \r\nL 306.82909 98.734709 \r\nL 322.848228 86.074516 \r\nL 338.867367 77.014508 \r\nL 354.886506 72.871676 \r\n\" style=\"fill:none;stroke:#1f77b4;stroke-linecap:square;stroke-width:1.5;\"/>\r\n   </g>\r\n   <g id=\"patch_3\">\r\n    <path d=\"M 35.304688 224.64 \r\nL 35.304688 7.2 \r\n\" style=\"fill:none;stroke:#000000;stroke-linecap:square;stroke-linejoin:miter;stroke-width:0.8;\"/>\r\n   </g>\r\n   <g id=\"patch_4\">\r\n    <path d=\"M 370.104688 224.64 \r\nL 370.104688 7.2 \r\n\" style=\"fill:none;stroke:#000000;stroke-linecap:square;stroke-linejoin:miter;stroke-width:0.8;\"/>\r\n   </g>\r\n   <g id=\"patch_5\">\r\n    <path d=\"M 35.304688 224.64 \r\nL 370.104688 224.64 \r\n\" style=\"fill:none;stroke:#000000;stroke-linecap:square;stroke-linejoin:miter;stroke-width:0.8;\"/>\r\n   </g>\r\n   <g id=\"patch_6\">\r\n    <path d=\"M 35.304688 7.2 \r\nL 370.104688 7.2 \r\n\" style=\"fill:none;stroke:#000000;stroke-linecap:square;stroke-linejoin:miter;stroke-width:0.8;\"/>\r\n   </g>\r\n  </g>\r\n </g>\r\n <defs>\r\n  <clipPath id=\"p939582c39a\">\r\n   <rect height=\"217.44\" width=\"334.8\" x=\"35.304688\" y=\"7.2\"/>\r\n  </clipPath>\r\n </defs>\r\n</svg>\r\n",
            "image/png": "[encoded data removed]"
          },
          "metadata": {
            "needs_background": "light"
          }
        }
      ],
      "source": [
        "plt.scatter(x, fx)\n",
        "plt.plot(x, f(x, a, b))"
      ]
    },
    {
      "cell_type": "code",
      "execution_count": 18,
      "metadata": {},
      "outputs": [
        {
          "output_type": "execute_result",
          "data": {
            "text/plain": [
              "     fun: 236.48672882528098\n",
              "   maxcv: 0.0\n",
              " message: 'Optimization terminated successfully.'\n",
              "    nfev: 340\n",
              "  status: 1\n",
              " success: True\n",
              "       x: array([2.15980534, 0.26478944, 0.45911254, 0.83430374, 1.09914353,\n",
              "       1.31457955, 1.64555639, 1.81110499, 2.10966622, 2.12804951,\n",
              "       2.67961604, 2.78323493, 3.0887256 , 3.37341739, 3.83080566,\n",
              "       4.10298417, 4.21940945, 4.58929211, 4.69753657, 4.88010067])"
            ]
          },
          "metadata": {},
          "execution_count": 18
        }
      ],
      "source": [
        "res = minimize(error,x,method='COBYLA')\n",
        "res"
      ]
    },
    {
      "cell_type": "markdown",
      "metadata": {
        "id": "4AXJ_r5UjrY5"
      },
      "source": [
        "## Задание 4"
      ]
    },
    {
      "cell_type": "markdown",
      "metadata": {
        "id": "zRnYGwhXjtQB"
      },
      "source": [
        "Создайте собственную дискретную случайную величину с 20 значениями. Сгенерируйте 1000 выборок размера 50. Посчитайте среднее для каждой выборки. Постройте гистограмму распределения средних."
      ]
    },
    {
      "cell_type": "code",
      "execution_count": 19,
      "metadata": {},
      "outputs": [
        {
          "output_type": "execute_result",
          "data": {
            "text/plain": [
              "array([ 3, 24, 33, 26, 48, 32,  3, 14, 42, 11, 42, 45, 19,  7, 25, 14, 33,\n",
              "       42, 32, 27])"
            ]
          },
          "metadata": {},
          "execution_count": 19
        }
      ],
      "source": [
        "rv = np.random.randint(0, 50, size = 20)\n",
        "rv"
      ]
    },
    {
      "cell_type": "code",
      "execution_count": 20,
      "metadata": {},
      "outputs": [],
      "source": [
        "mean = []\n",
        "sub_sample_size = 20\n",
        "loc, scale = 0., 1.\n",
        "\n",
        "for i in range(1000):\n",
        "    s = np.random.laplace(loc, scale, sub_sample_size)\n",
        "    mean.append(s.mean())"
      ]
    },
    {
      "cell_type": "code",
      "execution_count": 21,
      "metadata": {},
      "outputs": [
        {
          "output_type": "execute_result",
          "data": {
            "text/plain": [
              "(array([ 1.,  0.,  0.,  0.,  0.,  3.,  0.,  4.,  1.,  8.,  9.,  8., 19.,\n",
              "        16., 22., 30., 33., 36., 22., 37., 33., 50., 48., 53., 58., 55.,\n",
              "        57., 58., 45., 36., 37., 39., 33., 24., 21., 29., 20., 10., 13.,\n",
              "         9., 10.,  2.,  0.,  3.,  1.,  0.,  5.,  1.,  0.,  1.]),\n",
              " array([-1.06413793, -1.02132118, -0.97850443, -0.93568768, -0.89287093,\n",
              "        -0.85005417, -0.80723742, -0.76442067, -0.72160392, -0.67878717,\n",
              "        -0.63597042, -0.59315367, -0.55033692, -0.50752017, -0.46470342,\n",
              "        -0.42188667, -0.37906991, -0.33625316, -0.29343641, -0.25061966,\n",
              "        -0.20780291, -0.16498616, -0.12216941, -0.07935266, -0.03653591,\n",
              "         0.00628084,  0.04909759,  0.09191435,  0.1347311 ,  0.17754785,\n",
              "         0.2203646 ,  0.26318135,  0.3059981 ,  0.34881485,  0.3916316 ,\n",
              "         0.43444835,  0.4772651 ,  0.52008186,  0.56289861,  0.60571536,\n",
              "         0.64853211,  0.69134886,  0.73416561,  0.77698236,  0.81979911,\n",
              "         0.86261586,  0.90543261,  0.94824936,  0.99106612,  1.03388287,\n",
              "         1.07669962]),\n",
              " <BarContainer object of 50 artists>)"
            ]
          },
          "metadata": {},
          "execution_count": 21
        },
        {
          "output_type": "display_data",
          "data": {
            "text/plain": "<Figure size 432x288 with 1 Axes>",
            "image/svg+xml": "<?xml version=\"1.0\" encoding=\"utf-8\" standalone=\"no\"?>\r\n<!DOCTYPE svg PUBLIC \"-//W3C//DTD SVG 1.1//EN\"\r\n  \"http://www.w3.org/Graphics/SVG/1.1/DTD/svg11.dtd\">\r\n<svg height=\"249.103945pt\" version=\"1.1\" viewBox=\"0 0 368.925 249.103945\" width=\"368.925pt\" xmlns=\"http://www.w3.org/2000/svg\" xmlns:xlink=\"http://www.w3.org/1999/xlink\">\r\n <metadata>\r\n  <rdf:RDF xmlns:cc=\"http://creativecommons.org/ns#\" xmlns:dc=\"http://purl.org/dc/elements/1.1/\" xmlns:rdf=\"http://www.w3.org/1999/02/22-rdf-syntax-ns#\">\r\n   <cc:Work>\r\n    <dc:type rdf:resource=\"http://purl.org/dc/dcmitype/StillImage\"/>\r\n    <dc:date>2021-07-28T20:58:33.384480</dc:date>\r\n    <dc:format>image/svg+xml</dc:format>\r\n    <dc:creator>\r\n     <cc:Agent>\r\n      <dc:title>Matplotlib v3.4.1, https://matplotlib.org/</dc:title>\r\n     </cc:Agent>\r\n    </dc:creator>\r\n   </cc:Work>\r\n  </rdf:RDF>\r\n </metadata>\r\n <defs>\r\n  <style type=\"text/css\">*{stroke-linecap:butt;stroke-linejoin:round;}</style>\r\n </defs>\r\n <g id=\"figure_1\">\r\n  <g id=\"patch_1\">\r\n   <path d=\"M -0 249.103945 \r\nL 368.925 249.103945 \r\nL 368.925 0 \r\nL -0 0 \r\nz\r\n\" style=\"fill:none;\"/>\r\n  </g>\r\n  <g id=\"axes_1\">\r\n   <g id=\"patch_2\">\r\n    <path d=\"M 26.925 225.22582 \r\nL 361.725 225.22582 \r\nL 361.725 7.78582 \r\nL 26.925 7.78582 \r\nz\r\n\" style=\"fill:#ffffff;\"/>\r\n   </g>\r\n   <g id=\"patch_3\">\r\n    <path clip-path=\"url(#p9f05954ddb)\" d=\"M 42.143182 225.22582 \r\nL 48.230455 225.22582 \r\nL 48.230455 221.655376 \r\nL 42.143182 221.655376 \r\nz\r\n\" style=\"fill:#1f77b4;\"/>\r\n   </g>\r\n   <g id=\"patch_4\">\r\n    <path clip-path=\"url(#p9f05954ddb)\" d=\"M 48.230455 225.22582 \r\nL 54.317727 225.22582 \r\nL 54.317727 225.22582 \r\nL 48.230455 225.22582 \r\nz\r\n\" style=\"fill:#1f77b4;\"/>\r\n   </g>\r\n   <g id=\"patch_5\">\r\n    <path clip-path=\"url(#p9f05954ddb)\" d=\"M 54.317727 225.22582 \r\nL 60.405 225.22582 \r\nL 60.405 225.22582 \r\nL 54.317727 225.22582 \r\nz\r\n\" style=\"fill:#1f77b4;\"/>\r\n   </g>\r\n   <g id=\"patch_6\">\r\n    <path clip-path=\"url(#p9f05954ddb)\" d=\"M 60.405 225.22582 \r\nL 66.492273 225.22582 \r\nL 66.492273 225.22582 \r\nL 60.405 225.22582 \r\nz\r\n\" style=\"fill:#1f77b4;\"/>\r\n   </g>\r\n   <g id=\"patch_7\">\r\n    <path clip-path=\"url(#p9f05954ddb)\" d=\"M 66.492273 225.22582 \r\nL 72.579545 225.22582 \r\nL 72.579545 225.22582 \r\nL 66.492273 225.22582 \r\nz\r\n\" style=\"fill:#1f77b4;\"/>\r\n   </g>\r\n   <g id=\"patch_8\">\r\n    <path clip-path=\"url(#p9f05954ddb)\" d=\"M 72.579545 225.22582 \r\nL 78.666818 225.22582 \r\nL 78.666818 214.51449 \r\nL 72.579545 214.51449 \r\nz\r\n\" style=\"fill:#1f77b4;\"/>\r\n   </g>\r\n   <g id=\"patch_9\">\r\n    <path clip-path=\"url(#p9f05954ddb)\" d=\"M 78.666818 225.22582 \r\nL 84.754091 225.22582 \r\nL 84.754091 225.22582 \r\nL 78.666818 225.22582 \r\nz\r\n\" style=\"fill:#1f77b4;\"/>\r\n   </g>\r\n   <g id=\"patch_10\">\r\n    <path clip-path=\"url(#p9f05954ddb)\" d=\"M 84.754091 225.22582 \r\nL 90.841364 225.22582 \r\nL 90.841364 210.944046 \r\nL 84.754091 210.944046 \r\nz\r\n\" style=\"fill:#1f77b4;\"/>\r\n   </g>\r\n   <g id=\"patch_11\">\r\n    <path clip-path=\"url(#p9f05954ddb)\" d=\"M 90.841364 225.22582 \r\nL 96.928636 225.22582 \r\nL 96.928636 221.655376 \r\nL 90.841364 221.655376 \r\nz\r\n\" style=\"fill:#1f77b4;\"/>\r\n   </g>\r\n   <g id=\"patch_12\">\r\n    <path clip-path=\"url(#p9f05954ddb)\" d=\"M 96.928636 225.22582 \r\nL 103.015909 225.22582 \r\nL 103.015909 196.662273 \r\nL 96.928636 196.662273 \r\nz\r\n\" style=\"fill:#1f77b4;\"/>\r\n   </g>\r\n   <g id=\"patch_13\">\r\n    <path clip-path=\"url(#p9f05954ddb)\" d=\"M 103.015909 225.22582 \r\nL 109.103182 225.22582 \r\nL 109.103182 193.09183 \r\nL 103.015909 193.09183 \r\nz\r\n\" style=\"fill:#1f77b4;\"/>\r\n   </g>\r\n   <g id=\"patch_14\">\r\n    <path clip-path=\"url(#p9f05954ddb)\" d=\"M 109.103182 225.22582 \r\nL 115.190455 225.22582 \r\nL 115.190455 196.662273 \r\nL 109.103182 196.662273 \r\nz\r\n\" style=\"fill:#1f77b4;\"/>\r\n   </g>\r\n   <g id=\"patch_15\">\r\n    <path clip-path=\"url(#p9f05954ddb)\" d=\"M 115.190455 225.22582 \r\nL 121.277727 225.22582 \r\nL 121.277727 157.387396 \r\nL 115.190455 157.387396 \r\nz\r\n\" style=\"fill:#1f77b4;\"/>\r\n   </g>\r\n   <g id=\"patch_16\">\r\n    <path clip-path=\"url(#p9f05954ddb)\" d=\"M 121.277727 225.22582 \r\nL 127.365 225.22582 \r\nL 127.365 168.098726 \r\nL 121.277727 168.098726 \r\nz\r\n\" style=\"fill:#1f77b4;\"/>\r\n   </g>\r\n   <g id=\"patch_17\">\r\n    <path clip-path=\"url(#p9f05954ddb)\" d=\"M 127.365 225.22582 \r\nL 133.452273 225.22582 \r\nL 133.452273 146.676066 \r\nL 127.365 146.676066 \r\nz\r\n\" style=\"fill:#1f77b4;\"/>\r\n   </g>\r\n   <g id=\"patch_18\">\r\n    <path clip-path=\"url(#p9f05954ddb)\" d=\"M 133.452273 225.22582 \r\nL 139.539545 225.22582 \r\nL 139.539545 118.112519 \r\nL 133.452273 118.112519 \r\nz\r\n\" style=\"fill:#1f77b4;\"/>\r\n   </g>\r\n   <g id=\"patch_19\">\r\n    <path clip-path=\"url(#p9f05954ddb)\" d=\"M 139.539545 225.22582 \r\nL 145.626818 225.22582 \r\nL 145.626818 107.401189 \r\nL 139.539545 107.401189 \r\nz\r\n\" style=\"fill:#1f77b4;\"/>\r\n   </g>\r\n   <g id=\"patch_20\">\r\n    <path clip-path=\"url(#p9f05954ddb)\" d=\"M 145.626818 225.22582 \r\nL 151.714091 225.22582 \r\nL 151.714091 96.689859 \r\nL 145.626818 96.689859 \r\nz\r\n\" style=\"fill:#1f77b4;\"/>\r\n   </g>\r\n   <g id=\"patch_21\">\r\n    <path clip-path=\"url(#p9f05954ddb)\" d=\"M 151.714091 225.22582 \r\nL 157.801364 225.22582 \r\nL 157.801364 146.676066 \r\nL 151.714091 146.676066 \r\nz\r\n\" style=\"fill:#1f77b4;\"/>\r\n   </g>\r\n   <g id=\"patch_22\">\r\n    <path clip-path=\"url(#p9f05954ddb)\" d=\"M 157.801364 225.22582 \r\nL 163.888636 225.22582 \r\nL 163.888636 93.119416 \r\nL 157.801364 93.119416 \r\nz\r\n\" style=\"fill:#1f77b4;\"/>\r\n   </g>\r\n   <g id=\"patch_23\">\r\n    <path clip-path=\"url(#p9f05954ddb)\" d=\"M 163.888636 225.22582 \r\nL 169.975909 225.22582 \r\nL 169.975909 107.401189 \r\nL 163.888636 107.401189 \r\nz\r\n\" style=\"fill:#1f77b4;\"/>\r\n   </g>\r\n   <g id=\"patch_24\">\r\n    <path clip-path=\"url(#p9f05954ddb)\" d=\"M 169.975909 225.22582 \r\nL 176.063182 225.22582 \r\nL 176.063182 46.703652 \r\nL 169.975909 46.703652 \r\nz\r\n\" style=\"fill:#1f77b4;\"/>\r\n   </g>\r\n   <g id=\"patch_25\">\r\n    <path clip-path=\"url(#p9f05954ddb)\" d=\"M 176.063182 225.22582 \r\nL 182.150455 225.22582 \r\nL 182.150455 53.844539 \r\nL 176.063182 53.844539 \r\nz\r\n\" style=\"fill:#1f77b4;\"/>\r\n   </g>\r\n   <g id=\"patch_26\">\r\n    <path clip-path=\"url(#p9f05954ddb)\" d=\"M 182.150455 225.22582 \r\nL 188.237727 225.22582 \r\nL 188.237727 35.992322 \r\nL 182.150455 35.992322 \r\nz\r\n\" style=\"fill:#1f77b4;\"/>\r\n   </g>\r\n   <g id=\"patch_27\">\r\n    <path clip-path=\"url(#p9f05954ddb)\" d=\"M 188.237727 225.22582 \r\nL 194.325 225.22582 \r\nL 194.325 18.140105 \r\nL 188.237727 18.140105 \r\nz\r\n\" style=\"fill:#1f77b4;\"/>\r\n   </g>\r\n   <g id=\"patch_28\">\r\n    <path clip-path=\"url(#p9f05954ddb)\" d=\"M 194.325 225.22582 \r\nL 200.412273 225.22582 \r\nL 200.412273 28.851435 \r\nL 194.325 28.851435 \r\nz\r\n\" style=\"fill:#1f77b4;\"/>\r\n   </g>\r\n   <g id=\"patch_29\">\r\n    <path clip-path=\"url(#p9f05954ddb)\" d=\"M 200.412273 225.22582 \r\nL 206.499545 225.22582 \r\nL 206.499545 21.710549 \r\nL 200.412273 21.710549 \r\nz\r\n\" style=\"fill:#1f77b4;\"/>\r\n   </g>\r\n   <g id=\"patch_30\">\r\n    <path clip-path=\"url(#p9f05954ddb)\" d=\"M 206.499545 225.22582 \r\nL 212.586818 225.22582 \r\nL 212.586818 18.140105 \r\nL 206.499545 18.140105 \r\nz\r\n\" style=\"fill:#1f77b4;\"/>\r\n   </g>\r\n   <g id=\"patch_31\">\r\n    <path clip-path=\"url(#p9f05954ddb)\" d=\"M 212.586818 225.22582 \r\nL 218.674091 225.22582 \r\nL 218.674091 64.555869 \r\nL 212.586818 64.555869 \r\nz\r\n\" style=\"fill:#1f77b4;\"/>\r\n   </g>\r\n   <g id=\"patch_32\">\r\n    <path clip-path=\"url(#p9f05954ddb)\" d=\"M 218.674091 225.22582 \r\nL 224.761364 225.22582 \r\nL 224.761364 96.689859 \r\nL 218.674091 96.689859 \r\nz\r\n\" style=\"fill:#1f77b4;\"/>\r\n   </g>\r\n   <g id=\"patch_33\">\r\n    <path clip-path=\"url(#p9f05954ddb)\" d=\"M 224.761364 225.22582 \r\nL 230.848636 225.22582 \r\nL 230.848636 93.119416 \r\nL 224.761364 93.119416 \r\nz\r\n\" style=\"fill:#1f77b4;\"/>\r\n   </g>\r\n   <g id=\"patch_34\">\r\n    <path clip-path=\"url(#p9f05954ddb)\" d=\"M 230.848636 225.22582 \r\nL 236.935909 225.22582 \r\nL 236.935909 85.978529 \r\nL 230.848636 85.978529 \r\nz\r\n\" style=\"fill:#1f77b4;\"/>\r\n   </g>\r\n   <g id=\"patch_35\">\r\n    <path clip-path=\"url(#p9f05954ddb)\" d=\"M 236.935909 225.22582 \r\nL 243.023182 225.22582 \r\nL 243.023182 107.401189 \r\nL 236.935909 107.401189 \r\nz\r\n\" style=\"fill:#1f77b4;\"/>\r\n   </g>\r\n   <g id=\"patch_36\">\r\n    <path clip-path=\"url(#p9f05954ddb)\" d=\"M 243.023182 225.22582 \r\nL 249.110455 225.22582 \r\nL 249.110455 139.535179 \r\nL 243.023182 139.535179 \r\nz\r\n\" style=\"fill:#1f77b4;\"/>\r\n   </g>\r\n   <g id=\"patch_37\">\r\n    <path clip-path=\"url(#p9f05954ddb)\" d=\"M 249.110455 225.22582 \r\nL 255.197727 225.22582 \r\nL 255.197727 150.246509 \r\nL 249.110455 150.246509 \r\nz\r\n\" style=\"fill:#1f77b4;\"/>\r\n   </g>\r\n   <g id=\"patch_38\">\r\n    <path clip-path=\"url(#p9f05954ddb)\" d=\"M 255.197727 225.22582 \r\nL 261.285 225.22582 \r\nL 261.285 121.682963 \r\nL 255.197727 121.682963 \r\nz\r\n\" style=\"fill:#1f77b4;\"/>\r\n   </g>\r\n   <g id=\"patch_39\">\r\n    <path clip-path=\"url(#p9f05954ddb)\" d=\"M 261.285 225.22582 \r\nL 267.372273 225.22582 \r\nL 267.372273 153.816953 \r\nL 261.285 153.816953 \r\nz\r\n\" style=\"fill:#1f77b4;\"/>\r\n   </g>\r\n   <g id=\"patch_40\">\r\n    <path clip-path=\"url(#p9f05954ddb)\" d=\"M 267.372273 225.22582 \r\nL 273.459545 225.22582 \r\nL 273.459545 189.521386 \r\nL 267.372273 189.521386 \r\nz\r\n\" style=\"fill:#1f77b4;\"/>\r\n   </g>\r\n   <g id=\"patch_41\">\r\n    <path clip-path=\"url(#p9f05954ddb)\" d=\"M 273.459545 225.22582 \r\nL 279.546818 225.22582 \r\nL 279.546818 178.810056 \r\nL 273.459545 178.810056 \r\nz\r\n\" style=\"fill:#1f77b4;\"/>\r\n   </g>\r\n   <g id=\"patch_42\">\r\n    <path clip-path=\"url(#p9f05954ddb)\" d=\"M 279.546818 225.22582 \r\nL 285.634091 225.22582 \r\nL 285.634091 193.09183 \r\nL 279.546818 193.09183 \r\nz\r\n\" style=\"fill:#1f77b4;\"/>\r\n   </g>\r\n   <g id=\"patch_43\">\r\n    <path clip-path=\"url(#p9f05954ddb)\" d=\"M 285.634091 225.22582 \r\nL 291.721364 225.22582 \r\nL 291.721364 189.521386 \r\nL 285.634091 189.521386 \r\nz\r\n\" style=\"fill:#1f77b4;\"/>\r\n   </g>\r\n   <g id=\"patch_44\">\r\n    <path clip-path=\"url(#p9f05954ddb)\" d=\"M 291.721364 225.22582 \r\nL 297.808636 225.22582 \r\nL 297.808636 218.084933 \r\nL 291.721364 218.084933 \r\nz\r\n\" style=\"fill:#1f77b4;\"/>\r\n   </g>\r\n   <g id=\"patch_45\">\r\n    <path clip-path=\"url(#p9f05954ddb)\" d=\"M 297.808636 225.22582 \r\nL 303.895909 225.22582 \r\nL 303.895909 225.22582 \r\nL 297.808636 225.22582 \r\nz\r\n\" style=\"fill:#1f77b4;\"/>\r\n   </g>\r\n   <g id=\"patch_46\">\r\n    <path clip-path=\"url(#p9f05954ddb)\" d=\"M 303.895909 225.22582 \r\nL 309.983182 225.22582 \r\nL 309.983182 214.51449 \r\nL 303.895909 214.51449 \r\nz\r\n\" style=\"fill:#1f77b4;\"/>\r\n   </g>\r\n   <g id=\"patch_47\">\r\n    <path clip-path=\"url(#p9f05954ddb)\" d=\"M 309.983182 225.22582 \r\nL 316.070455 225.22582 \r\nL 316.070455 221.655376 \r\nL 309.983182 221.655376 \r\nz\r\n\" style=\"fill:#1f77b4;\"/>\r\n   </g>\r\n   <g id=\"patch_48\">\r\n    <path clip-path=\"url(#p9f05954ddb)\" d=\"M 316.070455 225.22582 \r\nL 322.157727 225.22582 \r\nL 322.157727 225.22582 \r\nL 316.070455 225.22582 \r\nz\r\n\" style=\"fill:#1f77b4;\"/>\r\n   </g>\r\n   <g id=\"patch_49\">\r\n    <path clip-path=\"url(#p9f05954ddb)\" d=\"M 322.157727 225.22582 \r\nL 328.245 225.22582 \r\nL 328.245 207.373603 \r\nL 322.157727 207.373603 \r\nz\r\n\" style=\"fill:#1f77b4;\"/>\r\n   </g>\r\n   <g id=\"patch_50\">\r\n    <path clip-path=\"url(#p9f05954ddb)\" d=\"M 328.245 225.22582 \r\nL 334.332273 225.22582 \r\nL 334.332273 221.655376 \r\nL 328.245 221.655376 \r\nz\r\n\" style=\"fill:#1f77b4;\"/>\r\n   </g>\r\n   <g id=\"patch_51\">\r\n    <path clip-path=\"url(#p9f05954ddb)\" d=\"M 334.332273 225.22582 \r\nL 340.419545 225.22582 \r\nL 340.419545 225.22582 \r\nL 334.332273 225.22582 \r\nz\r\n\" style=\"fill:#1f77b4;\"/>\r\n   </g>\r\n   <g id=\"patch_52\">\r\n    <path clip-path=\"url(#p9f05954ddb)\" d=\"M 340.419545 225.22582 \r\nL 346.506818 225.22582 \r\nL 346.506818 221.655376 \r\nL 340.419545 221.655376 \r\nz\r\n\" style=\"fill:#1f77b4;\"/>\r\n   </g>\r\n   <g id=\"matplotlib.axis_1\">\r\n    <g id=\"xtick_1\">\r\n     <g id=\"line2d_1\">\r\n      <defs>\r\n       <path d=\"M 0 0 \r\nL 0 3.5 \r\n\" id=\"m54d97dd853\" style=\"stroke:#000000;stroke-width:0.8;\"/>\r\n      </defs>\r\n      <g>\r\n       <use style=\"stroke:#000000;stroke-width:0.8;\" x=\"51.261694\" xlink:href=\"#m54d97dd853\" y=\"225.22582\"/>\r\n      </g>\r\n     </g>\r\n     <g id=\"text_1\">\r\n      <!-- −1.0 -->\r\n      <g transform=\"translate(39.120288 239.824257)scale(0.1 -0.1)\">\r\n       <defs>\r\n        <path d=\"M 678 2272 \r\nL 4684 2272 \r\nL 4684 1741 \r\nL 678 1741 \r\nL 678 2272 \r\nz\r\n\" id=\"DejaVuSans-2212\" transform=\"scale(0.015625)\"/>\r\n        <path d=\"M 794 531 \r\nL 1825 531 \r\nL 1825 4091 \r\nL 703 3866 \r\nL 703 4441 \r\nL 1819 4666 \r\nL 2450 4666 \r\nL 2450 531 \r\nL 3481 531 \r\nL 3481 0 \r\nL 794 0 \r\nL 794 531 \r\nz\r\n\" id=\"DejaVuSans-31\" transform=\"scale(0.015625)\"/>\r\n        <path d=\"M 684 794 \r\nL 1344 794 \r\nL 1344 0 \r\nL 684 0 \r\nL 684 794 \r\nz\r\n\" id=\"DejaVuSans-2e\" transform=\"scale(0.015625)\"/>\r\n        <path d=\"M 2034 4250 \r\nQ 1547 4250 1301 3770 \r\nQ 1056 3291 1056 2328 \r\nQ 1056 1369 1301 889 \r\nQ 1547 409 2034 409 \r\nQ 2525 409 2770 889 \r\nQ 3016 1369 3016 2328 \r\nQ 3016 3291 2770 3770 \r\nQ 2525 4250 2034 4250 \r\nz\r\nM 2034 4750 \r\nQ 2819 4750 3233 4129 \r\nQ 3647 3509 3647 2328 \r\nQ 3647 1150 3233 529 \r\nQ 2819 -91 2034 -91 \r\nQ 1250 -91 836 529 \r\nQ 422 1150 422 2328 \r\nQ 422 3509 836 4129 \r\nQ 1250 4750 2034 4750 \r\nz\r\n\" id=\"DejaVuSans-30\" transform=\"scale(0.015625)\"/>\r\n       </defs>\r\n       <use xlink:href=\"#DejaVuSans-2212\"/>\r\n       <use x=\"83.789062\" xlink:href=\"#DejaVuSans-31\"/>\r\n       <use x=\"147.412109\" xlink:href=\"#DejaVuSans-2e\"/>\r\n       <use x=\"179.199219\" xlink:href=\"#DejaVuSans-30\"/>\r\n      </g>\r\n     </g>\r\n    </g>\r\n    <g id=\"xtick_2\">\r\n     <g id=\"line2d_2\">\r\n      <g>\r\n       <use style=\"stroke:#000000;stroke-width:0.8;\" x=\"122.346872\" xlink:href=\"#m54d97dd853\" y=\"225.22582\"/>\r\n      </g>\r\n     </g>\r\n     <g id=\"text_2\">\r\n      <!-- −0.5 -->\r\n      <g transform=\"translate(110.205466 239.824257)scale(0.1 -0.1)\">\r\n       <defs>\r\n        <path d=\"M 691 4666 \r\nL 3169 4666 \r\nL 3169 4134 \r\nL 1269 4134 \r\nL 1269 2991 \r\nQ 1406 3038 1543 3061 \r\nQ 1681 3084 1819 3084 \r\nQ 2600 3084 3056 2656 \r\nQ 3513 2228 3513 1497 \r\nQ 3513 744 3044 326 \r\nQ 2575 -91 1722 -91 \r\nQ 1428 -91 1123 -41 \r\nQ 819 9 494 109 \r\nL 494 744 \r\nQ 775 591 1075 516 \r\nQ 1375 441 1709 441 \r\nQ 2250 441 2565 725 \r\nQ 2881 1009 2881 1497 \r\nQ 2881 1984 2565 2268 \r\nQ 2250 2553 1709 2553 \r\nQ 1456 2553 1204 2497 \r\nQ 953 2441 691 2322 \r\nL 691 4666 \r\nz\r\n\" id=\"DejaVuSans-35\" transform=\"scale(0.015625)\"/>\r\n       </defs>\r\n       <use xlink:href=\"#DejaVuSans-2212\"/>\r\n       <use x=\"83.789062\" xlink:href=\"#DejaVuSans-30\"/>\r\n       <use x=\"147.412109\" xlink:href=\"#DejaVuSans-2e\"/>\r\n       <use x=\"179.199219\" xlink:href=\"#DejaVuSans-35\"/>\r\n      </g>\r\n     </g>\r\n    </g>\r\n    <g id=\"xtick_3\">\r\n     <g id=\"line2d_3\">\r\n      <g>\r\n       <use style=\"stroke:#000000;stroke-width:0.8;\" x=\"193.43205\" xlink:href=\"#m54d97dd853\" y=\"225.22582\"/>\r\n      </g>\r\n     </g>\r\n     <g id=\"text_3\">\r\n      <!-- 0.0 -->\r\n      <g transform=\"translate(185.480488 239.824257)scale(0.1 -0.1)\">\r\n       <use xlink:href=\"#DejaVuSans-30\"/>\r\n       <use x=\"63.623047\" xlink:href=\"#DejaVuSans-2e\"/>\r\n       <use x=\"95.410156\" xlink:href=\"#DejaVuSans-30\"/>\r\n      </g>\r\n     </g>\r\n    </g>\r\n    <g id=\"xtick_4\">\r\n     <g id=\"line2d_4\">\r\n      <g>\r\n       <use style=\"stroke:#000000;stroke-width:0.8;\" x=\"264.517228\" xlink:href=\"#m54d97dd853\" y=\"225.22582\"/>\r\n      </g>\r\n     </g>\r\n     <g id=\"text_4\">\r\n      <!-- 0.5 -->\r\n      <g transform=\"translate(256.565666 239.824257)scale(0.1 -0.1)\">\r\n       <use xlink:href=\"#DejaVuSans-30\"/>\r\n       <use x=\"63.623047\" xlink:href=\"#DejaVuSans-2e\"/>\r\n       <use x=\"95.410156\" xlink:href=\"#DejaVuSans-35\"/>\r\n      </g>\r\n     </g>\r\n    </g>\r\n    <g id=\"xtick_5\">\r\n     <g id=\"line2d_5\">\r\n      <g>\r\n       <use style=\"stroke:#000000;stroke-width:0.8;\" x=\"335.602406\" xlink:href=\"#m54d97dd853\" y=\"225.22582\"/>\r\n      </g>\r\n     </g>\r\n     <g id=\"text_5\">\r\n      <!-- 1.0 -->\r\n      <g transform=\"translate(327.650844 239.824257)scale(0.1 -0.1)\">\r\n       <use xlink:href=\"#DejaVuSans-31\"/>\r\n       <use x=\"63.623047\" xlink:href=\"#DejaVuSans-2e\"/>\r\n       <use x=\"95.410156\" xlink:href=\"#DejaVuSans-30\"/>\r\n      </g>\r\n     </g>\r\n    </g>\r\n   </g>\r\n   <g id=\"matplotlib.axis_2\">\r\n    <g id=\"ytick_1\">\r\n     <g id=\"line2d_6\">\r\n      <defs>\r\n       <path d=\"M 0 0 \r\nL -3.5 0 \r\n\" id=\"mee7ce48dc9\" style=\"stroke:#000000;stroke-width:0.8;\"/>\r\n      </defs>\r\n      <g>\r\n       <use style=\"stroke:#000000;stroke-width:0.8;\" x=\"26.925\" xlink:href=\"#mee7ce48dc9\" y=\"225.22582\"/>\r\n      </g>\r\n     </g>\r\n     <g id=\"text_6\">\r\n      <!-- 0 -->\r\n      <g transform=\"translate(13.5625 229.025038)scale(0.1 -0.1)\">\r\n       <use xlink:href=\"#DejaVuSans-30\"/>\r\n      </g>\r\n     </g>\r\n    </g>\r\n    <g id=\"ytick_2\">\r\n     <g id=\"line2d_7\">\r\n      <g>\r\n       <use style=\"stroke:#000000;stroke-width:0.8;\" x=\"26.925\" xlink:href=\"#mee7ce48dc9\" y=\"189.521386\"/>\r\n      </g>\r\n     </g>\r\n     <g id=\"text_7\">\r\n      <!-- 10 -->\r\n      <g transform=\"translate(7.2 193.320605)scale(0.1 -0.1)\">\r\n       <use xlink:href=\"#DejaVuSans-31\"/>\r\n       <use x=\"63.623047\" xlink:href=\"#DejaVuSans-30\"/>\r\n      </g>\r\n     </g>\r\n    </g>\r\n    <g id=\"ytick_3\">\r\n     <g id=\"line2d_8\">\r\n      <g>\r\n       <use style=\"stroke:#000000;stroke-width:0.8;\" x=\"26.925\" xlink:href=\"#mee7ce48dc9\" y=\"153.816953\"/>\r\n      </g>\r\n     </g>\r\n     <g id=\"text_8\">\r\n      <!-- 20 -->\r\n      <g transform=\"translate(7.2 157.616171)scale(0.1 -0.1)\">\r\n       <defs>\r\n        <path d=\"M 1228 531 \r\nL 3431 531 \r\nL 3431 0 \r\nL 469 0 \r\nL 469 531 \r\nQ 828 903 1448 1529 \r\nQ 2069 2156 2228 2338 \r\nQ 2531 2678 2651 2914 \r\nQ 2772 3150 2772 3378 \r\nQ 2772 3750 2511 3984 \r\nQ 2250 4219 1831 4219 \r\nQ 1534 4219 1204 4116 \r\nQ 875 4013 500 3803 \r\nL 500 4441 \r\nQ 881 4594 1212 4672 \r\nQ 1544 4750 1819 4750 \r\nQ 2544 4750 2975 4387 \r\nQ 3406 4025 3406 3419 \r\nQ 3406 3131 3298 2873 \r\nQ 3191 2616 2906 2266 \r\nQ 2828 2175 2409 1742 \r\nQ 1991 1309 1228 531 \r\nz\r\n\" id=\"DejaVuSans-32\" transform=\"scale(0.015625)\"/>\r\n       </defs>\r\n       <use xlink:href=\"#DejaVuSans-32\"/>\r\n       <use x=\"63.623047\" xlink:href=\"#DejaVuSans-30\"/>\r\n      </g>\r\n     </g>\r\n    </g>\r\n    <g id=\"ytick_4\">\r\n     <g id=\"line2d_9\">\r\n      <g>\r\n       <use style=\"stroke:#000000;stroke-width:0.8;\" x=\"26.925\" xlink:href=\"#mee7ce48dc9\" y=\"118.112519\"/>\r\n      </g>\r\n     </g>\r\n     <g id=\"text_9\">\r\n      <!-- 30 -->\r\n      <g transform=\"translate(7.2 121.911738)scale(0.1 -0.1)\">\r\n       <defs>\r\n        <path d=\"M 2597 2516 \r\nQ 3050 2419 3304 2112 \r\nQ 3559 1806 3559 1356 \r\nQ 3559 666 3084 287 \r\nQ 2609 -91 1734 -91 \r\nQ 1441 -91 1130 -33 \r\nQ 819 25 488 141 \r\nL 488 750 \r\nQ 750 597 1062 519 \r\nQ 1375 441 1716 441 \r\nQ 2309 441 2620 675 \r\nQ 2931 909 2931 1356 \r\nQ 2931 1769 2642 2001 \r\nQ 2353 2234 1838 2234 \r\nL 1294 2234 \r\nL 1294 2753 \r\nL 1863 2753 \r\nQ 2328 2753 2575 2939 \r\nQ 2822 3125 2822 3475 \r\nQ 2822 3834 2567 4026 \r\nQ 2313 4219 1838 4219 \r\nQ 1578 4219 1281 4162 \r\nQ 984 4106 628 3988 \r\nL 628 4550 \r\nQ 988 4650 1302 4700 \r\nQ 1616 4750 1894 4750 \r\nQ 2613 4750 3031 4423 \r\nQ 3450 4097 3450 3541 \r\nQ 3450 3153 3228 2886 \r\nQ 3006 2619 2597 2516 \r\nz\r\n\" id=\"DejaVuSans-33\" transform=\"scale(0.015625)\"/>\r\n       </defs>\r\n       <use xlink:href=\"#DejaVuSans-33\"/>\r\n       <use x=\"63.623047\" xlink:href=\"#DejaVuSans-30\"/>\r\n      </g>\r\n     </g>\r\n    </g>\r\n    <g id=\"ytick_5\">\r\n     <g id=\"line2d_10\">\r\n      <g>\r\n       <use style=\"stroke:#000000;stroke-width:0.8;\" x=\"26.925\" xlink:href=\"#mee7ce48dc9\" y=\"82.408086\"/>\r\n      </g>\r\n     </g>\r\n     <g id=\"text_10\">\r\n      <!-- 40 -->\r\n      <g transform=\"translate(7.2 86.207304)scale(0.1 -0.1)\">\r\n       <defs>\r\n        <path d=\"M 2419 4116 \r\nL 825 1625 \r\nL 2419 1625 \r\nL 2419 4116 \r\nz\r\nM 2253 4666 \r\nL 3047 4666 \r\nL 3047 1625 \r\nL 3713 1625 \r\nL 3713 1100 \r\nL 3047 1100 \r\nL 3047 0 \r\nL 2419 0 \r\nL 2419 1100 \r\nL 313 1100 \r\nL 313 1709 \r\nL 2253 4666 \r\nz\r\n\" id=\"DejaVuSans-34\" transform=\"scale(0.015625)\"/>\r\n       </defs>\r\n       <use xlink:href=\"#DejaVuSans-34\"/>\r\n       <use x=\"63.623047\" xlink:href=\"#DejaVuSans-30\"/>\r\n      </g>\r\n     </g>\r\n    </g>\r\n    <g id=\"ytick_6\">\r\n     <g id=\"line2d_11\">\r\n      <g>\r\n       <use style=\"stroke:#000000;stroke-width:0.8;\" x=\"26.925\" xlink:href=\"#mee7ce48dc9\" y=\"46.703652\"/>\r\n      </g>\r\n     </g>\r\n     <g id=\"text_11\">\r\n      <!-- 50 -->\r\n      <g transform=\"translate(7.2 50.502871)scale(0.1 -0.1)\">\r\n       <use xlink:href=\"#DejaVuSans-35\"/>\r\n       <use x=\"63.623047\" xlink:href=\"#DejaVuSans-30\"/>\r\n      </g>\r\n     </g>\r\n    </g>\r\n    <g id=\"ytick_7\">\r\n     <g id=\"line2d_12\">\r\n      <g>\r\n       <use style=\"stroke:#000000;stroke-width:0.8;\" x=\"26.925\" xlink:href=\"#mee7ce48dc9\" y=\"10.999219\"/>\r\n      </g>\r\n     </g>\r\n     <g id=\"text_12\">\r\n      <!-- 60 -->\r\n      <g transform=\"translate(7.2 14.798437)scale(0.1 -0.1)\">\r\n       <defs>\r\n        <path d=\"M 2113 2584 \r\nQ 1688 2584 1439 2293 \r\nQ 1191 2003 1191 1497 \r\nQ 1191 994 1439 701 \r\nQ 1688 409 2113 409 \r\nQ 2538 409 2786 701 \r\nQ 3034 994 3034 1497 \r\nQ 3034 2003 2786 2293 \r\nQ 2538 2584 2113 2584 \r\nz\r\nM 3366 4563 \r\nL 3366 3988 \r\nQ 3128 4100 2886 4159 \r\nQ 2644 4219 2406 4219 \r\nQ 1781 4219 1451 3797 \r\nQ 1122 3375 1075 2522 \r\nQ 1259 2794 1537 2939 \r\nQ 1816 3084 2150 3084 \r\nQ 2853 3084 3261 2657 \r\nQ 3669 2231 3669 1497 \r\nQ 3669 778 3244 343 \r\nQ 2819 -91 2113 -91 \r\nQ 1303 -91 875 529 \r\nQ 447 1150 447 2328 \r\nQ 447 3434 972 4092 \r\nQ 1497 4750 2381 4750 \r\nQ 2619 4750 2861 4703 \r\nQ 3103 4656 3366 4563 \r\nz\r\n\" id=\"DejaVuSans-36\" transform=\"scale(0.015625)\"/>\r\n       </defs>\r\n       <use xlink:href=\"#DejaVuSans-36\"/>\r\n       <use x=\"63.623047\" xlink:href=\"#DejaVuSans-30\"/>\r\n      </g>\r\n     </g>\r\n    </g>\r\n   </g>\r\n   <g id=\"patch_53\">\r\n    <path d=\"M 26.925 225.22582 \r\nL 26.925 7.78582 \r\n\" style=\"fill:none;stroke:#000000;stroke-linecap:square;stroke-linejoin:miter;stroke-width:0.8;\"/>\r\n   </g>\r\n   <g id=\"patch_54\">\r\n    <path d=\"M 361.725 225.22582 \r\nL 361.725 7.78582 \r\n\" style=\"fill:none;stroke:#000000;stroke-linecap:square;stroke-linejoin:miter;stroke-width:0.8;\"/>\r\n   </g>\r\n   <g id=\"patch_55\">\r\n    <path d=\"M 26.925 225.22582 \r\nL 361.725 225.22582 \r\n\" style=\"fill:none;stroke:#000000;stroke-linecap:square;stroke-linejoin:miter;stroke-width:0.8;\"/>\r\n   </g>\r\n   <g id=\"patch_56\">\r\n    <path d=\"M 26.925 7.78582 \r\nL 361.725 7.78582 \r\n\" style=\"fill:none;stroke:#000000;stroke-linecap:square;stroke-linejoin:miter;stroke-width:0.8;\"/>\r\n   </g>\r\n  </g>\r\n </g>\r\n <defs>\r\n  <clipPath id=\"p9f05954ddb\">\r\n   <rect height=\"217.44\" width=\"334.8\" x=\"26.925\" y=\"7.78582\"/>\r\n  </clipPath>\r\n </defs>\r\n</svg>\r\n",
            "image/png": "[encoded data removed]"
          },
          "metadata": {
            "needs_background": "light"
          }
        }
      ],
      "source": [
        "plt.hist(mean, 50, label='mean distribution')"
      ]
    },
    {
      "cell_type": "markdown",
      "metadata": {
        "id": "KJWpqOvPjt1E"
      },
      "source": [
        "## Задание 5"
      ]
    },
    {
      "cell_type": "markdown",
      "metadata": {
        "id": "48ezmZDMjvIY"
      },
      "source": [
        "Найдите собственные значения и собственные вектора матрицы (на python и на бумаге):"
      ]
    },
    {
      "cell_type": "markdown",
      "metadata": {
        "id": "509GRSXskfQt"
      },
      "source": [
        "\n",
        "\n",
        "```\n",
        "m = np.array([[1, 4],\n",
        "              [1, 1]])\n",
        "print(m)\n",
        "```\n",
        "\n"
      ]
    },
    {
      "cell_type": "code",
      "execution_count": 22,
      "metadata": {},
      "outputs": [
        {
          "output_type": "execute_result",
          "data": {
            "text/plain": [
              "array([[1, 4],\n",
              "       [1, 1]])"
            ]
          },
          "metadata": {},
          "execution_count": 22
        }
      ],
      "source": [
        "m = np.array([[1, 4],\n",
        "              [1, 1]])\n",
        "m"
      ]
    },
    {
      "cell_type": "code",
      "execution_count": 23,
      "metadata": {},
      "outputs": [
        {
          "output_type": "stream",
          "name": "stdout",
          "text": [
            "собственные значения [ 3. -1.]\nсобственные вектора [[ 0.89442719 -0.89442719]\n [ 0.4472136   0.4472136 ]]\n"
          ]
        }
      ],
      "source": [
        "w,v = np.linalg.eig(m)\n",
        "print('собственные значения', w)\n",
        "print('собственные вектора', v)"
      ]
    },
    {
      "source": [
        "Вычислим в ручную"
      ],
      "cell_type": "markdown",
      "metadata": {}
    },
    {
      "source": [
        "## Сначала найдём собственные значения"
      ],
      "cell_type": "markdown",
      "metadata": {}
    },
    {
      "source": [
        "$$\\begin{pmatrix} 1 & 4 \\\\ 1 & 1 \\end{pmatrix} \\begin{pmatrix} x \\\\ y \\end{pmatrix} = \\lambda \\begin{pmatrix} x \\\\ y \\end{pmatrix}$$"
      ],
      "cell_type": "markdown",
      "metadata": {}
    },
    {
      "source": [
        "$$\\begin{pmatrix} x & 4y \\\\ x & y \\end{pmatrix} = \\begin{pmatrix} \\lambda x \\\\ \\lambda y \\end{pmatrix}$$"
      ],
      "cell_type": "markdown",
      "metadata": {}
    },
    {
      "source": [
        "\\begin{equation}\n",
        "\\left\\{\n",
        "\\begin{array}{c}\n",
        "    x+4y=\\lambda x \\\\\n",
        "    x+y=\\lambda y\n",
        "\\end{array}\n",
        "\\right.\n",
        "\\end{equation}"
      ],
      "cell_type": "markdown",
      "metadata": {}
    },
    {
      "source": [
        "\\begin{equation}\n",
        "\\left\\{\n",
        "\\begin{array}{c}\n",
        "    x+4y-\\lambda x=0 \\\\\n",
        "    x+y-\\lambda y=0\n",
        "\\end{array}\n",
        "\\right.\n",
        "\\end{equation}"
      ],
      "cell_type": "markdown",
      "metadata": {}
    },
    {
      "source": [
        "\\begin{equation}\n",
        "\\left\\{\n",
        "\\begin{array}{c}\n",
        "    (1 -\\lambda )x+4y=0 \\\\\n",
        "    x+(1 -\\lambda )y=0\n",
        "\\end{array}\n",
        "\\right.\n",
        "\\end{equation}"
      ],
      "cell_type": "markdown",
      "metadata": {}
    },
    {
      "source": [
        "По определению, собственный вектор не может быть нулевым, поэтому нас не устраивает тривиальное решение x = 0, y = 0 системы. Следовательно, уравнения линейно зависимы и определитель матрицы системы равен нулю:"
      ],
      "cell_type": "markdown",
      "metadata": {}
    },
    {
      "source": [
        "$$\\begin{bmatrix} 1-\\lambda & 4 \\\\ 1 & 1-\\lambda \\end{bmatrix} = 0$$"
      ],
      "cell_type": "markdown",
      "metadata": {}
    },
    {
      "source": [
        "Составим характеристическое уравнение, раскроем определитель и решим квадратное уравнение:"
      ],
      "cell_type": "markdown",
      "metadata": {}
    },
    {
      "source": [
        "$$(1-\\lambda)(1-\\lambda)-1\\cdot 4=0$$"
      ],
      "cell_type": "markdown",
      "metadata": {}
    },
    {
      "source": [
        "$$\\lambda ^{2}-2\\lambda-3=0$$"
      ],
      "cell_type": "markdown",
      "metadata": {}
    },
    {
      "source": [
        "$$D = 4-4\\cdot 1\\cdot (-3) = 16$$"
      ],
      "cell_type": "markdown",
      "metadata": {}
    },
    {
      "source": [
        "$$\\sqrt{16}=4$$"
      ],
      "cell_type": "markdown",
      "metadata": {}
    },
    {
      "source": [
        "$$\\lambda_1 = \\left(\\frac{2 - 4}{2}\\right)=-1$$"
      ],
      "cell_type": "markdown",
      "metadata": {}
    },
    {
      "source": [
        "$$\\lambda_2 = \\left(\\frac{2 + 4}{2}\\right)=3$$"
      ],
      "cell_type": "markdown",
      "metadata": {}
    },
    {
      "source": [
        "Таким образом, собственные значения: $\\lambda_1 = -1, \\lambda_1 = 3$"
      ],
      "cell_type": "markdown",
      "metadata": {}
    },
    {
      "source": [
        "## Теперь найдём собственные векторы"
      ],
      "cell_type": "markdown",
      "metadata": {}
    },
    {
      "source": [
        "Рассмотрим собственное число $\\lambda_1 = -1$ и подставим значение в систему уравнений, найденную выше\n",
        "\n",
        "$$\\begin{equation} \\left\\{ \\begin{array}{c} (1 -\\lambda )x+4y=0 \\\\ x+(1 -\\lambda )y=0 \\end{array} \\right. \\end{equation}$$"
      ],
      "cell_type": "markdown",
      "metadata": {}
    },
    {
      "source": [
        "$$\\begin{equation} \\left\\{ \\begin{array}{c} 2x+4y=0 \\\\ x+2y=0 \\end{array} \\right. \\end{equation} \\Rightarrow x=-2y$$"
      ],
      "cell_type": "markdown",
      "metadata": {}
    },
    {
      "source": [
        "Придавая переменной $y$ (либо $x$) произвольные значения, мы получаем бесконечно много собственных векторов. Все они будут коллинеарны друг другу, и поэтому нам достаточно указать один из них."
      ],
      "cell_type": "markdown",
      "metadata": {}
    },
    {
      "source": [
        "$$y = -1 \\\\ x = 2$$"
      ],
      "cell_type": "markdown",
      "metadata": {}
    }
  ]
}