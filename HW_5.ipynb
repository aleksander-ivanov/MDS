{
  "nbformat": 4,
  "nbformat_minor": 0,
  "metadata": {
    "colab": {
      "name": "HW_5",
      "provenance": []
    },
    "kernelspec": {
      "name": "python3",
      "display_name": "Python 3.8.5 64-bit ('base': conda)"
    },
    "interpreter": {
      "hash": "b4760074067732e81c03fa2f3451350d5e78e45f688639748e9cab7f332de886"
    }
  },
  "cells": [
    {
      "cell_type": "markdown",
      "metadata": {
        "id": "MDcEqde2UtVJ"
      },
      "source": [
        "# Домашнее задание \"Производная функции нескольких аргументов\"."
      ]
    },
    {
      "cell_type": "code",
      "metadata": {
        "id": "hkGWP9e5TgmG"
      },
      "source": [
        "import numpy as np\n",
        "from scipy.optimize import approx_fprime, minimize\n",
        "from sympy import *"
      ],
      "execution_count": 61,
      "outputs": []
    },
    {
      "cell_type": "markdown",
      "metadata": {
        "id": "Brjig4o4UnHe"
      },
      "source": [
        "### Уровень 0:"
      ]
    },
    {
      "cell_type": "markdown",
      "metadata": {
        "id": "xOv4al86VAw1"
      },
      "source": [
        "Посчитайте частные производные функций:"
      ]
    },
    {
      "cell_type": "markdown",
      "metadata": {
        "id": "fCyKnRYIUw2j"
      },
      "source": [
        "\n",
        "1) $f(x,y)=2x^2y^3 + 1/x + y^2x + 7$, а для этой функции также градиент в точке $(1,2)$\n",
        "\n",
        "2) $f(x,y)=x^2y - sin(xy) + cos(x^2) + 6y$"
      ]
    },
    {
      "cell_type": "code",
      "execution_count": 20,
      "metadata": {},
      "outputs": [],
      "source": [
        "def partial_derivative(ginput,der_var,val):\n",
        "    x,y = symbols('x y')\n",
        "    f = lambda x,y: ginput\n",
        "    derivative_x = lambdify((x,y),sp.diff(f(x,y),x))\n",
        "    derivative_y = lambdify((x,y),sp.diff(f(x,y),y))\n",
        "    if der_var == 'x' :\n",
        "        return derivative_x(val[0],val[1])\n",
        "    if der_var == 'y' :\n",
        "        return derivative_y(val[0],val[1])"
      ]
    },
    {
      "cell_type": "code",
      "execution_count": 21,
      "metadata": {},
      "outputs": [
        {
          "output_type": "stream",
          "name": "stdout",
          "text": [
            "35.0\n28\n"
          ]
        }
      ],
      "source": [
        " input = '2 * x ** 2 * y ** 3 + 1 / x + y ** 2 * x + 7'\n",
        " print(partial_derivative(input1,'x',(1,2)))\n",
        " print(partial_derivative(input1,'y',(1,2)))"
      ]
    },
    {
      "cell_type": "code",
      "execution_count": 22,
      "metadata": {},
      "outputs": [
        {
          "output_type": "execute_result",
          "data": {
            "text/plain": [
              "4*x*y**3 + y**2 - 1/x**2"
            ],
            "text/latex": "$\\displaystyle 4 x y^{3} + y^{2} - \\frac{1}{x^{2}}$"
          },
          "metadata": {},
          "execution_count": 22
        }
      ],
      "source": [
        "f = 2 * x ** 2 * y ** 3 + 1 / x + y ** 2 * x + 7\n",
        "x, y = symbols('x y')\n",
        "diff(f, x)"
      ]
    },
    {
      "cell_type": "code",
      "execution_count": 25,
      "metadata": {},
      "outputs": [
        {
          "output_type": "execute_result",
          "data": {
            "text/plain": [
              "4*x*y**3 + y**2 - 1/x**2"
            ],
            "text/latex": "$\\displaystyle 4 x y^{3} + y^{2} - \\frac{1}{x^{2}}$"
          },
          "metadata": {},
          "execution_count": 25
        }
      ],
      "source": [
        "f2 = x**2*y - sin(x*y) + cos(x**2) + 6*y\n",
        "x, y = symbols('x y')\n",
        "diff(f, x)"
      ]
    },
    {
      "cell_type": "markdown",
      "metadata": {
        "id": "COzir0ZGVLtz"
      },
      "source": [
        "### Уровень 1:"
      ]
    },
    {
      "cell_type": "markdown",
      "metadata": {
        "id": "VIW3H6ChVOZQ"
      },
      "source": [
        "Градиентный спуск своими руками:"
      ]
    },
    {
      "cell_type": "code",
      "metadata": {
        "id": "rFpy298AUwXs"
      },
      "source": [
        "def f(x):\n",
        "    return (x[0]**2) + (x[1]**2)"
      ],
      "execution_count": 83,
      "outputs": []
    },
    {
      "cell_type": "code",
      "metadata": {
        "id": "-QoutSlMcZ7M"
      },
      "source": [
        "x = np.array([100, 200])\n",
        "learning_rate = 0.1\n"
      ],
      "execution_count": 84,
      "outputs": []
    },
    {
      "cell_type": "code",
      "execution_count": 86,
      "metadata": {},
      "outputs": [],
      "source": [
        "for i in range(100):\n",
        "    # Calculate gradient\n",
        "    \n",
        "    eps = np.sqrt(np.finfo(float).eps)\n",
        "    grad = approx_fprime(x, f, [eps, eps])\n",
        "\n",
        "    x = x - learning_rate * grad"
      ]
    },
    {
      "cell_type": "code",
      "metadata": {
        "id": "3rJwR2lecZ_i"
      },
      "source": [
        "print(\"Минимум достигается в: \", x)\n",
        "print(\"Значение функции в минимуме: \", f(x))"
      ],
      "execution_count": 87,
      "outputs": [
        {
          "output_type": "stream",
          "name": "stdout",
          "text": [
            "Минимум достигается в:  [-7.45058059e-09 -7.45058059e-09]\nЗначение функции в минимуме:  1.1102230227701783e-16\n"
          ]
        }
      ]
    },
    {
      "cell_type": "markdown",
      "metadata": {
        "id": "eAw4uXx_UnJk"
      },
      "source": [
        "\n",
        "Проверка с помощью встроенной функции numpy:"
      ]
    },
    {
      "cell_type": "code",
      "metadata": {
        "id": "_O-rTJ1yciMI"
      },
      "source": [
        "np.gradient(x)\n"
      ],
      "execution_count": 88,
      "outputs": [
        {
          "output_type": "execute_result",
          "data": {
            "text/plain": [
              " final_simplex: (array([[-7.45058059e-09, -7.45058059e-09],\n",
              "       [-7.45058059e-09, -7.82310962e-09],\n",
              "       [-7.82310962e-09, -7.45058059e-09]]), array([1.11022302e-16, 1.16712195e-16, 1.16712195e-16]))\n",
              "           fun: 1.1102230227701783e-16\n",
              "       message: 'Optimization terminated successfully.'\n",
              "          nfev: 3\n",
              "           nit: 1\n",
              "        status: 0\n",
              "       success: True\n",
              "             x: array([-7.45058059e-09, -7.45058059e-09])"
            ]
          },
          "metadata": {},
          "execution_count": 88
        }
      ]
    },
    {
      "cell_type": "code",
      "execution_count": 89,
      "metadata": {},
      "outputs": [
        {
          "output_type": "execute_result",
          "data": {
            "text/plain": [
              " final_simplex: (array([[-7.45058059e-09, -7.45058059e-09],\n",
              "       [-7.45058059e-09, -7.82310962e-09],\n",
              "       [-7.82310962e-09, -7.45058059e-09]]), array([1.11022302e-16, 1.16712195e-16, 1.16712195e-16]))\n",
              "           fun: 1.1102230227701783e-16\n",
              "       message: 'Optimization terminated successfully.'\n",
              "          nfev: 3\n",
              "           nit: 1\n",
              "        status: 0\n",
              "       success: True\n",
              "             x: array([-7.45058059e-09, -7.45058059e-09])"
            ]
          },
          "metadata": {},
          "execution_count": 89
        }
      ],
      "source": [
        "minimize(f, x, method='Nelder-Mead', tol=1e-6)"
      ]
    },
    {
      "cell_type": "code",
      "execution_count": null,
      "metadata": {},
      "outputs": [],
      "source": []
    }
  ]
}